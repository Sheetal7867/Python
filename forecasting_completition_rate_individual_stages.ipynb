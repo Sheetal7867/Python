{
  "nbformat": 4,
  "nbformat_minor": 0,
  "metadata": {
    "colab": {
      "provenance": []
    },
    "kernelspec": {
      "name": "python3",
      "display_name": "Python 3"
    },
    "language_info": {
      "name": "python"
    }
  },
  "cells": [
    {
      "cell_type": "code",
      "execution_count": null,
      "metadata": {
        "id": "qWmQeakwHXQ6"
      },
      "outputs": [],
      "source": [
        "import pandas as pd"
      ]
    },
    {
      "cell_type": "code",
      "source": [
        "timeseries = pd.read_csv('Assignment 1 - Time Series Plots.csv')"
      ],
      "metadata": {
        "id": "6CrUXKjGH1NX"
      },
      "execution_count": null,
      "outputs": []
    },
    {
      "cell_type": "code",
      "source": [
        "timeseries.head()"
      ],
      "metadata": {
        "colab": {
          "base_uri": "https://localhost:8080/",
          "height": 372
        },
        "id": "iMXURso2IIa6",
        "outputId": "f33273d4-fe2e-451f-cbfa-b1b1fb72a125"
      },
      "execution_count": null,
      "outputs": [
        {
          "output_type": "execute_result",
          "data": {
            "text/plain": [
              "  Stage Completion Time  INSTALLATION sum Time taken to complete stage (in days)  PROCUREMENT sum Time taken to complete stage (in days)  SHIPPING sum Time taken to complete stage (in days)  INSTALLATION avg Time taken to complete stage (in days)  PROCUREMENT avg Time taken to complete stage (in days)  SHIPPING avg Time taken to complete stage (in days)\n",
              "0   2018-01-11 13:00:18                                                NaN                                               169.632812                                                     NaN                                                  NaN                                                33.926563                                                     NaN  \n",
              "1   2018-01-11 13:00:18                                                NaN                                               271.412593                                                     NaN                                                  NaN                                                33.926574                                                     NaN  \n",
              "2   2018-01-11 13:00:18                                                NaN                                               237.486099                                                     NaN                                                  NaN                                                33.926586                                                     NaN  \n",
              "3   2018-01-11 13:00:18                                                NaN                                               135.706389                                                     NaN                                                  NaN                                                33.926597                                                     NaN  \n",
              "4   2018-01-11 13:02:34                                                NaN                                               271.414537                                                     NaN                                                  NaN                                                33.926817                                                     NaN  "
            ],
            "text/html": [
              "\n",
              "  <div id=\"df-b2d16561-fe19-4f50-bb2c-ff280a676415\">\n",
              "    <div class=\"colab-df-container\">\n",
              "      <div>\n",
              "<style scoped>\n",
              "    .dataframe tbody tr th:only-of-type {\n",
              "        vertical-align: middle;\n",
              "    }\n",
              "\n",
              "    .dataframe tbody tr th {\n",
              "        vertical-align: top;\n",
              "    }\n",
              "\n",
              "    .dataframe thead th {\n",
              "        text-align: right;\n",
              "    }\n",
              "</style>\n",
              "<table border=\"1\" class=\"dataframe\">\n",
              "  <thead>\n",
              "    <tr style=\"text-align: right;\">\n",
              "      <th></th>\n",
              "      <th>Stage Completion Time</th>\n",
              "      <th>INSTALLATION sum Time taken to complete stage (in days)</th>\n",
              "      <th>PROCUREMENT sum Time taken to complete stage (in days)</th>\n",
              "      <th>SHIPPING sum Time taken to complete stage (in days)</th>\n",
              "      <th>INSTALLATION avg Time taken to complete stage (in days)</th>\n",
              "      <th>PROCUREMENT avg Time taken to complete stage (in days)</th>\n",
              "      <th>SHIPPING avg Time taken to complete stage (in days)</th>\n",
              "    </tr>\n",
              "  </thead>\n",
              "  <tbody>\n",
              "    <tr>\n",
              "      <th>0</th>\n",
              "      <td>2018-01-11 13:00:18</td>\n",
              "      <td>NaN</td>\n",
              "      <td>169.632812</td>\n",
              "      <td>NaN</td>\n",
              "      <td>NaN</td>\n",
              "      <td>33.926563</td>\n",
              "      <td>NaN</td>\n",
              "    </tr>\n",
              "    <tr>\n",
              "      <th>1</th>\n",
              "      <td>2018-01-11 13:00:18</td>\n",
              "      <td>NaN</td>\n",
              "      <td>271.412593</td>\n",
              "      <td>NaN</td>\n",
              "      <td>NaN</td>\n",
              "      <td>33.926574</td>\n",
              "      <td>NaN</td>\n",
              "    </tr>\n",
              "    <tr>\n",
              "      <th>2</th>\n",
              "      <td>2018-01-11 13:00:18</td>\n",
              "      <td>NaN</td>\n",
              "      <td>237.486099</td>\n",
              "      <td>NaN</td>\n",
              "      <td>NaN</td>\n",
              "      <td>33.926586</td>\n",
              "      <td>NaN</td>\n",
              "    </tr>\n",
              "    <tr>\n",
              "      <th>3</th>\n",
              "      <td>2018-01-11 13:00:18</td>\n",
              "      <td>NaN</td>\n",
              "      <td>135.706389</td>\n",
              "      <td>NaN</td>\n",
              "      <td>NaN</td>\n",
              "      <td>33.926597</td>\n",
              "      <td>NaN</td>\n",
              "    </tr>\n",
              "    <tr>\n",
              "      <th>4</th>\n",
              "      <td>2018-01-11 13:02:34</td>\n",
              "      <td>NaN</td>\n",
              "      <td>271.414537</td>\n",
              "      <td>NaN</td>\n",
              "      <td>NaN</td>\n",
              "      <td>33.926817</td>\n",
              "      <td>NaN</td>\n",
              "    </tr>\n",
              "  </tbody>\n",
              "</table>\n",
              "</div>\n",
              "      <button class=\"colab-df-convert\" onclick=\"convertToInteractive('df-b2d16561-fe19-4f50-bb2c-ff280a676415')\"\n",
              "              title=\"Convert this dataframe to an interactive table.\"\n",
              "              style=\"display:none;\">\n",
              "        \n",
              "  <svg xmlns=\"http://www.w3.org/2000/svg\" height=\"24px\"viewBox=\"0 0 24 24\"\n",
              "       width=\"24px\">\n",
              "    <path d=\"M0 0h24v24H0V0z\" fill=\"none\"/>\n",
              "    <path d=\"M18.56 5.44l.94 2.06.94-2.06 2.06-.94-2.06-.94-.94-2.06-.94 2.06-2.06.94zm-11 1L8.5 8.5l.94-2.06 2.06-.94-2.06-.94L8.5 2.5l-.94 2.06-2.06.94zm10 10l.94 2.06.94-2.06 2.06-.94-2.06-.94-.94-2.06-.94 2.06-2.06.94z\"/><path d=\"M17.41 7.96l-1.37-1.37c-.4-.4-.92-.59-1.43-.59-.52 0-1.04.2-1.43.59L10.3 9.45l-7.72 7.72c-.78.78-.78 2.05 0 2.83L4 21.41c.39.39.9.59 1.41.59.51 0 1.02-.2 1.41-.59l7.78-7.78 2.81-2.81c.8-.78.8-2.07 0-2.86zM5.41 20L4 18.59l7.72-7.72 1.47 1.35L5.41 20z\"/>\n",
              "  </svg>\n",
              "      </button>\n",
              "      \n",
              "  <style>\n",
              "    .colab-df-container {\n",
              "      display:flex;\n",
              "      flex-wrap:wrap;\n",
              "      gap: 12px;\n",
              "    }\n",
              "\n",
              "    .colab-df-convert {\n",
              "      background-color: #E8F0FE;\n",
              "      border: none;\n",
              "      border-radius: 50%;\n",
              "      cursor: pointer;\n",
              "      display: none;\n",
              "      fill: #1967D2;\n",
              "      height: 32px;\n",
              "      padding: 0 0 0 0;\n",
              "      width: 32px;\n",
              "    }\n",
              "\n",
              "    .colab-df-convert:hover {\n",
              "      background-color: #E2EBFA;\n",
              "      box-shadow: 0px 1px 2px rgba(60, 64, 67, 0.3), 0px 1px 3px 1px rgba(60, 64, 67, 0.15);\n",
              "      fill: #174EA6;\n",
              "    }\n",
              "\n",
              "    [theme=dark] .colab-df-convert {\n",
              "      background-color: #3B4455;\n",
              "      fill: #D2E3FC;\n",
              "    }\n",
              "\n",
              "    [theme=dark] .colab-df-convert:hover {\n",
              "      background-color: #434B5C;\n",
              "      box-shadow: 0px 1px 3px 1px rgba(0, 0, 0, 0.15);\n",
              "      filter: drop-shadow(0px 1px 2px rgba(0, 0, 0, 0.3));\n",
              "      fill: #FFFFFF;\n",
              "    }\n",
              "  </style>\n",
              "\n",
              "      <script>\n",
              "        const buttonEl =\n",
              "          document.querySelector('#df-b2d16561-fe19-4f50-bb2c-ff280a676415 button.colab-df-convert');\n",
              "        buttonEl.style.display =\n",
              "          google.colab.kernel.accessAllowed ? 'block' : 'none';\n",
              "\n",
              "        async function convertToInteractive(key) {\n",
              "          const element = document.querySelector('#df-b2d16561-fe19-4f50-bb2c-ff280a676415');\n",
              "          const dataTable =\n",
              "            await google.colab.kernel.invokeFunction('convertToInteractive',\n",
              "                                                     [key], {});\n",
              "          if (!dataTable) return;\n",
              "\n",
              "          const docLinkHtml = 'Like what you see? Visit the ' +\n",
              "            '<a target=\"_blank\" href=https://colab.research.google.com/notebooks/data_table.ipynb>data table notebook</a>'\n",
              "            + ' to learn more about interactive tables.';\n",
              "          element.innerHTML = '';\n",
              "          dataTable['output_type'] = 'display_data';\n",
              "          await google.colab.output.renderOutput(dataTable, element);\n",
              "          const docLink = document.createElement('div');\n",
              "          docLink.innerHTML = docLinkHtml;\n",
              "          element.appendChild(docLink);\n",
              "        }\n",
              "      </script>\n",
              "    </div>\n",
              "  </div>\n",
              "  "
            ]
          },
          "metadata": {},
          "execution_count": 15
        }
      ]
    },
    {
      "cell_type": "code",
      "source": [
        "grouped_ts = timeseries.groupby('Stage Completion Time').mean().reset_index()"
      ],
      "metadata": {
        "id": "_zf0hiXdIP4i"
      },
      "execution_count": null,
      "outputs": []
    },
    {
      "cell_type": "code",
      "source": [
        "grouped_ts.head()"
      ],
      "metadata": {
        "colab": {
          "base_uri": "https://localhost:8080/",
          "height": 372
        },
        "id": "afvjfv_yIzNS",
        "outputId": "2049a69c-b562-4850-9e24-d2e888a45216"
      },
      "execution_count": null,
      "outputs": [
        {
          "output_type": "execute_result",
          "data": {
            "text/plain": [
              "  Stage Completion Time  INSTALLATION sum Time taken to complete stage (in days)  PROCUREMENT sum Time taken to complete stage (in days)  SHIPPING sum Time taken to complete stage (in days)  INSTALLATION avg Time taken to complete stage (in days)  PROCUREMENT avg Time taken to complete stage (in days)  SHIPPING avg Time taken to complete stage (in days)\n",
              "0   2018-01-11 13:00:18                                                NaN                                               203.559473                                                     NaN                                                  NaN                                                33.926580                                                     NaN  \n",
              "1   2018-01-11 13:02:34                                                NaN                                               246.742108                                                     NaN                                                  NaN                                                33.927059                                                     NaN  \n",
              "2   2018-01-12 12:30:25                                                NaN                                               122.165874                                                     NaN                                                  NaN                                                34.904531                                                     NaN  \n",
              "3   2018-01-12 12:32:45                                                NaN                                               247.260480                                                     NaN                                                  NaN                                                34.907367                                                     NaN  \n",
              "4   2018-01-18 12:55:22                                                NaN                                               102.305110                                                     NaN                                                  NaN                                                40.922043                                                     NaN  "
            ],
            "text/html": [
              "\n",
              "  <div id=\"df-101b3226-3c5a-40e9-8680-76aa8d145a8d\">\n",
              "    <div class=\"colab-df-container\">\n",
              "      <div>\n",
              "<style scoped>\n",
              "    .dataframe tbody tr th:only-of-type {\n",
              "        vertical-align: middle;\n",
              "    }\n",
              "\n",
              "    .dataframe tbody tr th {\n",
              "        vertical-align: top;\n",
              "    }\n",
              "\n",
              "    .dataframe thead th {\n",
              "        text-align: right;\n",
              "    }\n",
              "</style>\n",
              "<table border=\"1\" class=\"dataframe\">\n",
              "  <thead>\n",
              "    <tr style=\"text-align: right;\">\n",
              "      <th></th>\n",
              "      <th>Stage Completion Time</th>\n",
              "      <th>INSTALLATION sum Time taken to complete stage (in days)</th>\n",
              "      <th>PROCUREMENT sum Time taken to complete stage (in days)</th>\n",
              "      <th>SHIPPING sum Time taken to complete stage (in days)</th>\n",
              "      <th>INSTALLATION avg Time taken to complete stage (in days)</th>\n",
              "      <th>PROCUREMENT avg Time taken to complete stage (in days)</th>\n",
              "      <th>SHIPPING avg Time taken to complete stage (in days)</th>\n",
              "    </tr>\n",
              "  </thead>\n",
              "  <tbody>\n",
              "    <tr>\n",
              "      <th>0</th>\n",
              "      <td>2018-01-11 13:00:18</td>\n",
              "      <td>NaN</td>\n",
              "      <td>203.559473</td>\n",
              "      <td>NaN</td>\n",
              "      <td>NaN</td>\n",
              "      <td>33.926580</td>\n",
              "      <td>NaN</td>\n",
              "    </tr>\n",
              "    <tr>\n",
              "      <th>1</th>\n",
              "      <td>2018-01-11 13:02:34</td>\n",
              "      <td>NaN</td>\n",
              "      <td>246.742108</td>\n",
              "      <td>NaN</td>\n",
              "      <td>NaN</td>\n",
              "      <td>33.927059</td>\n",
              "      <td>NaN</td>\n",
              "    </tr>\n",
              "    <tr>\n",
              "      <th>2</th>\n",
              "      <td>2018-01-12 12:30:25</td>\n",
              "      <td>NaN</td>\n",
              "      <td>122.165874</td>\n",
              "      <td>NaN</td>\n",
              "      <td>NaN</td>\n",
              "      <td>34.904531</td>\n",
              "      <td>NaN</td>\n",
              "    </tr>\n",
              "    <tr>\n",
              "      <th>3</th>\n",
              "      <td>2018-01-12 12:32:45</td>\n",
              "      <td>NaN</td>\n",
              "      <td>247.260480</td>\n",
              "      <td>NaN</td>\n",
              "      <td>NaN</td>\n",
              "      <td>34.907367</td>\n",
              "      <td>NaN</td>\n",
              "    </tr>\n",
              "    <tr>\n",
              "      <th>4</th>\n",
              "      <td>2018-01-18 12:55:22</td>\n",
              "      <td>NaN</td>\n",
              "      <td>102.305110</td>\n",
              "      <td>NaN</td>\n",
              "      <td>NaN</td>\n",
              "      <td>40.922043</td>\n",
              "      <td>NaN</td>\n",
              "    </tr>\n",
              "  </tbody>\n",
              "</table>\n",
              "</div>\n",
              "      <button class=\"colab-df-convert\" onclick=\"convertToInteractive('df-101b3226-3c5a-40e9-8680-76aa8d145a8d')\"\n",
              "              title=\"Convert this dataframe to an interactive table.\"\n",
              "              style=\"display:none;\">\n",
              "        \n",
              "  <svg xmlns=\"http://www.w3.org/2000/svg\" height=\"24px\"viewBox=\"0 0 24 24\"\n",
              "       width=\"24px\">\n",
              "    <path d=\"M0 0h24v24H0V0z\" fill=\"none\"/>\n",
              "    <path d=\"M18.56 5.44l.94 2.06.94-2.06 2.06-.94-2.06-.94-.94-2.06-.94 2.06-2.06.94zm-11 1L8.5 8.5l.94-2.06 2.06-.94-2.06-.94L8.5 2.5l-.94 2.06-2.06.94zm10 10l.94 2.06.94-2.06 2.06-.94-2.06-.94-.94-2.06-.94 2.06-2.06.94z\"/><path d=\"M17.41 7.96l-1.37-1.37c-.4-.4-.92-.59-1.43-.59-.52 0-1.04.2-1.43.59L10.3 9.45l-7.72 7.72c-.78.78-.78 2.05 0 2.83L4 21.41c.39.39.9.59 1.41.59.51 0 1.02-.2 1.41-.59l7.78-7.78 2.81-2.81c.8-.78.8-2.07 0-2.86zM5.41 20L4 18.59l7.72-7.72 1.47 1.35L5.41 20z\"/>\n",
              "  </svg>\n",
              "      </button>\n",
              "      \n",
              "  <style>\n",
              "    .colab-df-container {\n",
              "      display:flex;\n",
              "      flex-wrap:wrap;\n",
              "      gap: 12px;\n",
              "    }\n",
              "\n",
              "    .colab-df-convert {\n",
              "      background-color: #E8F0FE;\n",
              "      border: none;\n",
              "      border-radius: 50%;\n",
              "      cursor: pointer;\n",
              "      display: none;\n",
              "      fill: #1967D2;\n",
              "      height: 32px;\n",
              "      padding: 0 0 0 0;\n",
              "      width: 32px;\n",
              "    }\n",
              "\n",
              "    .colab-df-convert:hover {\n",
              "      background-color: #E2EBFA;\n",
              "      box-shadow: 0px 1px 2px rgba(60, 64, 67, 0.3), 0px 1px 3px 1px rgba(60, 64, 67, 0.15);\n",
              "      fill: #174EA6;\n",
              "    }\n",
              "\n",
              "    [theme=dark] .colab-df-convert {\n",
              "      background-color: #3B4455;\n",
              "      fill: #D2E3FC;\n",
              "    }\n",
              "\n",
              "    [theme=dark] .colab-df-convert:hover {\n",
              "      background-color: #434B5C;\n",
              "      box-shadow: 0px 1px 3px 1px rgba(0, 0, 0, 0.15);\n",
              "      filter: drop-shadow(0px 1px 2px rgba(0, 0, 0, 0.3));\n",
              "      fill: #FFFFFF;\n",
              "    }\n",
              "  </style>\n",
              "\n",
              "      <script>\n",
              "        const buttonEl =\n",
              "          document.querySelector('#df-101b3226-3c5a-40e9-8680-76aa8d145a8d button.colab-df-convert');\n",
              "        buttonEl.style.display =\n",
              "          google.colab.kernel.accessAllowed ? 'block' : 'none';\n",
              "\n",
              "        async function convertToInteractive(key) {\n",
              "          const element = document.querySelector('#df-101b3226-3c5a-40e9-8680-76aa8d145a8d');\n",
              "          const dataTable =\n",
              "            await google.colab.kernel.invokeFunction('convertToInteractive',\n",
              "                                                     [key], {});\n",
              "          if (!dataTable) return;\n",
              "\n",
              "          const docLinkHtml = 'Like what you see? Visit the ' +\n",
              "            '<a target=\"_blank\" href=https://colab.research.google.com/notebooks/data_table.ipynb>data table notebook</a>'\n",
              "            + ' to learn more about interactive tables.';\n",
              "          element.innerHTML = '';\n",
              "          dataTable['output_type'] = 'display_data';\n",
              "          await google.colab.output.renderOutput(dataTable, element);\n",
              "          const docLink = document.createElement('div');\n",
              "          docLink.innerHTML = docLinkHtml;\n",
              "          element.appendChild(docLink);\n",
              "        }\n",
              "      </script>\n",
              "    </div>\n",
              "  </div>\n",
              "  "
            ]
          },
          "metadata": {},
          "execution_count": 17
        }
      ]
    },
    {
      "cell_type": "code",
      "source": [
        "grouped_ts[\"Stage Completion Time\"] = pd.to_datetime(grouped_ts[\"Stage Completion Time\"])\n",
        "grouped_ts.set_index(\"Stage Completion Time\", inplace=True)"
      ],
      "metadata": {
        "id": "3G_AAQGNeJDn"
      },
      "execution_count": null,
      "outputs": []
    },
    {
      "cell_type": "code",
      "source": [
        "!pip install pmdarima"
      ],
      "metadata": {
        "colab": {
          "base_uri": "https://localhost:8080/"
        },
        "id": "Lvhk-5jJJUBD",
        "outputId": "e64e3510-8f87-4d35-9fd5-2129a382df37"
      },
      "execution_count": null,
      "outputs": [
        {
          "output_type": "stream",
          "name": "stdout",
          "text": [
            "Looking in indexes: https://pypi.org/simple, https://us-python.pkg.dev/colab-wheels/public/simple/\n",
            "Collecting pmdarima\n",
            "  Downloading pmdarima-2.0.1-cp37-cp37m-manylinux_2_17_x86_64.manylinux2014_x86_64.manylinux_2_28_x86_64.whl (1.8 MB)\n",
            "\u001b[K     |████████████████████████████████| 1.8 MB 4.1 MB/s \n",
            "\u001b[?25hRequirement already satisfied: scipy>=1.3.2 in /usr/local/lib/python3.7/dist-packages (from pmdarima) (1.7.3)\n",
            "Requirement already satisfied: setuptools!=50.0.0,>=38.6.0 in /usr/local/lib/python3.7/dist-packages (from pmdarima) (57.4.0)\n",
            "Requirement already satisfied: joblib>=0.11 in /usr/local/lib/python3.7/dist-packages (from pmdarima) (1.1.0)\n",
            "Requirement already satisfied: scikit-learn>=0.22 in /usr/local/lib/python3.7/dist-packages (from pmdarima) (1.0.2)\n",
            "Requirement already satisfied: pandas>=0.19 in /usr/local/lib/python3.7/dist-packages (from pmdarima) (1.3.5)\n",
            "Collecting statsmodels>=0.13.2\n",
            "  Downloading statsmodels-0.13.2-cp37-cp37m-manylinux_2_17_x86_64.manylinux2014_x86_64.whl (9.8 MB)\n",
            "\u001b[K     |████████████████████████████████| 9.8 MB 37.1 MB/s \n",
            "\u001b[?25hRequirement already satisfied: Cython!=0.29.18,!=0.29.31,>=0.29 in /usr/local/lib/python3.7/dist-packages (from pmdarima) (0.29.32)\n",
            "Requirement already satisfied: numpy>=1.21 in /usr/local/lib/python3.7/dist-packages (from pmdarima) (1.21.6)\n",
            "Requirement already satisfied: urllib3 in /usr/local/lib/python3.7/dist-packages (from pmdarima) (1.24.3)\n",
            "Requirement already satisfied: python-dateutil>=2.7.3 in /usr/local/lib/python3.7/dist-packages (from pandas>=0.19->pmdarima) (2.8.2)\n",
            "Requirement already satisfied: pytz>=2017.3 in /usr/local/lib/python3.7/dist-packages (from pandas>=0.19->pmdarima) (2022.2.1)\n",
            "Requirement already satisfied: six>=1.5 in /usr/local/lib/python3.7/dist-packages (from python-dateutil>=2.7.3->pandas>=0.19->pmdarima) (1.15.0)\n",
            "Requirement already satisfied: threadpoolctl>=2.0.0 in /usr/local/lib/python3.7/dist-packages (from scikit-learn>=0.22->pmdarima) (3.1.0)\n",
            "Requirement already satisfied: packaging>=21.3 in /usr/local/lib/python3.7/dist-packages (from statsmodels>=0.13.2->pmdarima) (21.3)\n",
            "Requirement already satisfied: patsy>=0.5.2 in /usr/local/lib/python3.7/dist-packages (from statsmodels>=0.13.2->pmdarima) (0.5.2)\n",
            "Requirement already satisfied: pyparsing!=3.0.5,>=2.0.2 in /usr/local/lib/python3.7/dist-packages (from packaging>=21.3->statsmodels>=0.13.2->pmdarima) (3.0.9)\n",
            "Installing collected packages: statsmodels, pmdarima\n",
            "  Attempting uninstall: statsmodels\n",
            "    Found existing installation: statsmodels 0.12.2\n",
            "    Uninstalling statsmodels-0.12.2:\n",
            "      Successfully uninstalled statsmodels-0.12.2\n",
            "Successfully installed pmdarima-2.0.1 statsmodels-0.13.2\n"
          ]
        }
      ]
    },
    {
      "cell_type": "code",
      "source": [
        "from pmdarima.arima import auto_arima\n",
        "from pmdarima.arima import KPSSTest\n",
        "from matplotlib import pyplot as plt\n",
        "\n",
        "pd.set_option('expand_frame_repr', False)"
      ],
      "metadata": {
        "id": "emMyF642KZ9A"
      },
      "execution_count": null,
      "outputs": []
    },
    {
      "cell_type": "code",
      "source": [
        "def univariate_auto_arima(df: pd.DataFrame, column_name: str):\n",
        "  stage_completition_col_name = \"Stage Completion Time\"\n",
        "  train_split = 0.9\n",
        "  test_split = 0.1\n",
        "\n",
        "  base_df = df[df[column_name].notnull()][[column_name]]\n",
        "\n",
        "  train_idx = round(len(base_df) * train_split)\n",
        "  train_df = base_df.iloc[:train_idx, :]\n",
        "  test_df = base_df.iloc[train_idx:, :]\n",
        "\n",
        "  arima_model = auto_arima(train_df, start_p=1, max_p=5, error_action='warn',\n",
        "                           suppress_warnings=True, stepwise=True)\n",
        "\n",
        "  predictions = arima_model.predict(n_periods=len(test_df))\n",
        "  test_df = test_df.assign(prediction=predictions.values)\n",
        "  print(\"Test data with predictions\")\n",
        "  print(test_df[[column_name, \"prediction\"]])\n",
        "\n",
        "  ax = train_df.plot()\n",
        "  test_df[[column_name]].plot(ax=ax)\n",
        "  test_df[['prediction']].plot(ax=ax)\n",
        "\n"
      ],
      "metadata": {
        "id": "KwHp1fnVKhwr"
      },
      "execution_count": null,
      "outputs": []
    },
    {
      "cell_type": "code",
      "source": [
        "for column in grouped_ts.columns:\n",
        "  print(\"========================================\")\n",
        "  print(f\"Auto arima for forecasting {column}\")\n",
        "  univariate_auto_arima(grouped_ts, column)\n",
        "  print(\"========================================\")"
      ],
      "metadata": {
        "colab": {
          "base_uri": "https://localhost:8080/",
          "height": 1000
        },
        "id": "1BMtCFN5PHBE",
        "outputId": "4c1ae27c-0f48-4f6a-e25d-3561a40462fb"
      },
      "execution_count": null,
      "outputs": [
        {
          "output_type": "stream",
          "name": "stdout",
          "text": [
            "========================================\n",
            "Auto arima for forecasting INSTALLATION sum Time taken to complete stage (in days)\n"
          ]
        },
        {
          "output_type": "stream",
          "name": "stderr",
          "text": [
            "/usr/local/lib/python3.7/dist-packages/statsmodels/tsa/base/tsa_model.py:843: ValueWarning: No supported index is available. Prediction results will be given with an integer index beginning at `start`.\n",
            "  data=self.data,\n"
          ]
        },
        {
          "output_type": "stream",
          "name": "stdout",
          "text": [
            "Test data with predictions\n",
            "                       INSTALLATION sum Time taken to complete stage (in days)   prediction\n",
            "Stage Completion Time                                                                      \n",
            "2018-06-19 19:54:18                                           623.402338         942.617911\n",
            "2018-06-19 19:55:10                                           884.467662        1265.517576\n",
            "2018-06-19 19:56:55                                           380.785903         745.254537\n",
            "========================================\n",
            "========================================\n",
            "Auto arima for forecasting PROCUREMENT sum Time taken to complete stage (in days)\n"
          ]
        },
        {
          "output_type": "stream",
          "name": "stderr",
          "text": [
            "/usr/local/lib/python3.7/dist-packages/statsmodels/tsa/base/tsa_model.py:843: ValueWarning: No supported index is available. Prediction results will be given with an integer index beginning at `start`.\n",
            "  data=self.data,\n"
          ]
        },
        {
          "output_type": "stream",
          "name": "stdout",
          "text": [
            "Test data with predictions\n",
            "                       PROCUREMENT sum Time taken to complete stage (in days)   prediction\n",
            "Stage Completion Time                                                                     \n",
            "2018-06-19 19:49:07                                          1159.259971       1350.330579\n",
            "2018-06-19 19:50:26                                           579.632442       1350.330579\n",
            "2018-06-19 19:51:39                                           772.846134       1350.330579\n",
            "========================================\n",
            "========================================\n",
            "Auto arima for forecasting SHIPPING sum Time taken to complete stage (in days)\n"
          ]
        },
        {
          "output_type": "stream",
          "name": "stderr",
          "text": [
            "/usr/local/lib/python3.7/dist-packages/statsmodels/tsa/base/tsa_model.py:843: ValueWarning: No supported index is available. Prediction results will be given with an integer index beginning at `start`.\n",
            "  data=self.data,\n"
          ]
        },
        {
          "output_type": "stream",
          "name": "stdout",
          "text": [
            "Test data with predictions\n",
            "                       SHIPPING sum Time taken to complete stage (in days)   prediction\n",
            "Stage Completion Time                                                                  \n",
            "2018-06-22 12:19:51                                           482.973125    1473.459111\n",
            "========================================\n",
            "========================================\n",
            "Auto arima for forecasting INSTALLATION avg Time taken to complete stage (in days)\n"
          ]
        },
        {
          "output_type": "stream",
          "name": "stderr",
          "text": [
            "/usr/local/lib/python3.7/dist-packages/statsmodels/tsa/base/tsa_model.py:843: ValueWarning: No supported index is available. Prediction results will be given with an integer index beginning at `start`.\n",
            "  data=self.data,\n"
          ]
        },
        {
          "output_type": "stream",
          "name": "stdout",
          "text": [
            "Test data with predictions\n",
            "                       INSTALLATION avg Time taken to complete stage (in days)  prediction\n",
            "Stage Completion Time                                                                     \n",
            "2018-06-19 19:54:18                                            89.057477         73.109282\n",
            "2018-06-19 19:55:10                                            63.176262        101.713746\n",
            "2018-06-19 19:56:55                                            27.198993         94.659949\n",
            "========================================\n",
            "========================================\n",
            "Auto arima for forecasting PROCUREMENT avg Time taken to complete stage (in days)\n"
          ]
        },
        {
          "output_type": "stream",
          "name": "stderr",
          "text": [
            "/usr/local/lib/python3.7/dist-packages/statsmodels/tsa/base/tsa_model.py:843: ValueWarning: No supported index is available. Prediction results will be given with an integer index beginning at `start`.\n",
            "  data=self.data,\n"
          ]
        },
        {
          "output_type": "stream",
          "name": "stdout",
          "text": [
            "Test data with predictions\n",
            "                       PROCUREMENT avg Time taken to complete stage (in days)  prediction\n",
            "Stage Completion Time                                                                    \n",
            "2018-06-19 19:49:07                                           193.209994       199.816447\n",
            "2018-06-19 19:50:26                                           193.210816       206.728525\n",
            "2018-06-19 19:51:39                                           193.211534       213.640603\n",
            "========================================\n",
            "========================================\n",
            "Auto arima for forecasting SHIPPING avg Time taken to complete stage (in days)\n"
          ]
        },
        {
          "output_type": "stream",
          "name": "stderr",
          "text": [
            "/usr/local/lib/python3.7/dist-packages/statsmodels/tsa/base/tsa_model.py:843: ValueWarning: No supported index is available. Prediction results will be given with an integer index beginning at `start`.\n",
            "  data=self.data,\n"
          ]
        },
        {
          "output_type": "stream",
          "name": "stdout",
          "text": [
            "Test data with predictions\n",
            "                       SHIPPING avg Time taken to complete stage (in days)  prediction\n",
            "Stage Completion Time                                                                 \n",
            "2018-06-22 12:19:51                                           160.991042    105.830648\n",
            "========================================\n"
          ]
        },
        {
          "output_type": "display_data",
          "data": {
            "text/plain": [
              "<Figure size 432x288 with 1 Axes>"
            ],
            "image/png": "[encoded data removed]"
          },
          "metadata": {
            "needs_background": "light"
          }
        },
        {
          "output_type": "display_data",
          "data": {
            "text/plain": [
              "<Figure size 432x288 with 1 Axes>"
            ],
            "image/png": "[encoded data removed]"
          },
          "metadata": {
            "needs_background": "light"
          }
        },
        {
          "output_type": "display_data",
          "data": {
            "text/plain": [
              "<Figure size 432x288 with 1 Axes>"
            ],
            "image/png": "[encoded data removed]"
          },
          "metadata": {
            "needs_background": "light"
          }
        },
        {
          "output_type": "display_data",
          "data": {
            "text/plain": [
              "<Figure size 432x288 with 1 Axes>"
            ],
            "image/png": "[encoded data removed]"
          },
          "metadata": {
            "needs_background": "light"
          }
        },
        {
          "output_type": "display_data",
          "data": {
            "text/plain": [
              "<Figure size 432x288 with 1 Axes>"
            ],
            "image/png": "[encoded data removed]"
          },
          "metadata": {
            "needs_background": "light"
          }
        },
        {
          "output_type": "display_data",
          "data": {
            "text/plain": [
              "<Figure size 432x288 with 1 Axes>"
            ],
            "image/png": "[encoded data removed]"
          },
          "metadata": {
            "needs_background": "light"
          }
        }
      ]
    },
    {
      "cell_type": "code",
      "source": [
        "!pip install kats"
      ],
      "metadata": {
        "id": "mn6jt8rVP4yF",
        "colab": {
          "base_uri": "https://localhost:8080/",
          "height": 1000
        },
        "outputId": "7e2fbf6e-1ea4-4cbf-9bb4-27449d1b8b2f"
      },
      "execution_count": null,
      "outputs": [
        {
          "output_type": "stream",
          "name": "stdout",
          "text": [
            "Looking in indexes: https://pypi.org/simple, https://us-python.pkg.dev/colab-wheels/public/simple/\n",
            "Collecting kats\n",
            "  Downloading kats-0.2.0-py3-none-any.whl (612 kB)\n",
            "\u001b[K     |████████████████████████████████| 612 kB 4.0 MB/s \n",
            "\u001b[?25hRequirement already satisfied: setuptools-git>=1.2 in /usr/local/lib/python3.7/dist-packages (from kats) (1.2)\n",
            "Requirement already satisfied: typing-extensions in /usr/local/lib/python3.7/dist-packages (from kats) (4.1.1)\n",
            "Collecting statsmodels==0.12.2\n",
            "  Downloading statsmodels-0.12.2-cp37-cp37m-manylinux1_x86_64.whl (9.5 MB)\n",
            "\u001b[K     |████████████████████████████████| 9.5 MB 25.8 MB/s \n",
            "\u001b[?25hRequirement already satisfied: scikit-learn>=0.24.2 in /usr/local/lib/python3.7/dist-packages (from kats) (1.0.2)\n",
            "Requirement already satisfied: tqdm>=4.36.1 in /usr/local/lib/python3.7/dist-packages (from kats) (4.64.1)\n",
            "Collecting fbprophet==0.7.1\n",
            "  Downloading fbprophet-0.7.1.tar.gz (64 kB)\n",
            "\u001b[K     |████████████████████████████████| 64 kB 2.2 MB/s \n",
            "\u001b[?25hCollecting pytest-mpl>=0.12\n",
            "  Downloading pytest_mpl-0.16.1-py3-none-any.whl (28 kB)\n",
            "Requirement already satisfied: plotly>=2.2.1 in /usr/local/lib/python3.7/dist-packages (from kats) (5.5.0)\n",
            "Requirement already satisfied: numpy<1.22,>=1.21 in /usr/local/lib/python3.7/dist-packages (from kats) (1.21.6)\n",
            "Requirement already satisfied: attrs>=21.2.0 in /usr/local/lib/python3.7/dist-packages (from kats) (22.1.0)\n",
            "Collecting ax-platform==0.2.4\n",
            "  Downloading ax_platform-0.2.4-py3-none-any.whl (950 kB)\n",
            "\u001b[K     |████████████████████████████████| 950 kB 49.5 MB/s \n",
            "\u001b[?25hCollecting pymannkendall>=1.4.1\n",
            "  Downloading pymannkendall-1.4.2-py3-none-any.whl (12 kB)\n",
            "Requirement already satisfied: scipy<1.8.0 in /usr/local/lib/python3.7/dist-packages (from kats) (1.7.3)\n",
            "Collecting deprecated>=1.2.12\n",
            "  Downloading Deprecated-1.2.13-py2.py3-none-any.whl (9.6 kB)\n",
            "Requirement already satisfied: LunarCalendar>=0.0.9 in /usr/local/lib/python3.7/dist-packages (from kats) (0.0.9)\n",
            "Requirement already satisfied: importlib-metadata in /usr/local/lib/python3.7/dist-packages (from kats) (4.12.0)\n",
            "Requirement already satisfied: numba>=0.52.0 in /usr/local/lib/python3.7/dist-packages (from kats) (0.56.2)\n",
            "Collecting gpytorch\n",
            "  Downloading gpytorch-1.8.1-py2.py3-none-any.whl (361 kB)\n",
            "\u001b[K     |████████████████████████████████| 361 kB 45.7 MB/s \n",
            "\u001b[?25hRequirement already satisfied: python-dateutil>=2.8.0 in /usr/local/lib/python3.7/dist-packages (from kats) (2.8.2)\n",
            "Requirement already satisfied: holidays>=0.10.2 in /usr/local/lib/python3.7/dist-packages (from kats) (0.15)\n",
            "Requirement already satisfied: matplotlib>=2.0.0 in /usr/local/lib/python3.7/dist-packages (from kats) (3.2.2)\n",
            "Collecting pystan==2.19.1.1\n",
            "  Downloading pystan-2.19.1.1-cp37-cp37m-manylinux1_x86_64.whl (67.3 MB)\n",
            "\u001b[K     |████████████████████████████████| 67.3 MB 86 kB/s \n",
            "\u001b[?25hRequirement already satisfied: torch in /usr/local/lib/python3.7/dist-packages (from kats) (1.12.1+cu113)\n",
            "Collecting parameterized>=0.8.1\n",
            "  Downloading parameterized-0.8.1-py2.py3-none-any.whl (26 kB)\n",
            "Requirement already satisfied: seaborn>=0.11.1 in /usr/local/lib/python3.7/dist-packages (from kats) (0.11.2)\n",
            "Requirement already satisfied: pandas<=1.3.5,>=1.0.4 in /usr/local/lib/python3.7/dist-packages (from kats) (1.3.5)\n",
            "Requirement already satisfied: typeguard in /usr/local/lib/python3.7/dist-packages (from ax-platform==0.2.4->kats) (2.7.1)\n",
            "Collecting botorch==0.6.2\n",
            "  Downloading botorch-0.6.2-py3-none-any.whl (347 kB)\n",
            "\u001b[K     |████████████████████████████████| 347 kB 68.6 MB/s \n",
            "\u001b[?25hRequirement already satisfied: jinja2 in /usr/local/lib/python3.7/dist-packages (from ax-platform==0.2.4->kats) (2.11.3)\n",
            "Requirement already satisfied: multipledispatch in /usr/local/lib/python3.7/dist-packages (from botorch==0.6.2->ax-platform==0.2.4->kats) (0.6.0)\n",
            "Requirement already satisfied: Cython>=0.22 in /usr/local/lib/python3.7/dist-packages (from fbprophet==0.7.1->kats) (0.29.32)\n",
            "Collecting cmdstanpy==0.9.5\n",
            "  Downloading cmdstanpy-0.9.5-py3-none-any.whl (37 kB)\n",
            "Requirement already satisfied: convertdate>=2.1.2 in /usr/local/lib/python3.7/dist-packages (from fbprophet==0.7.1->kats) (2.4.0)\n",
            "Requirement already satisfied: patsy>=0.5 in /usr/local/lib/python3.7/dist-packages (from statsmodels==0.12.2->kats) (0.5.2)\n",
            "Requirement already satisfied: pymeeus<=1,>=0.3.13 in /usr/local/lib/python3.7/dist-packages (from convertdate>=2.1.2->fbprophet==0.7.1->kats) (0.5.11)\n",
            "Requirement already satisfied: wrapt<2,>=1.10 in /usr/local/lib/python3.7/dist-packages (from deprecated>=1.2.12->kats) (1.14.1)\n",
            "Requirement already satisfied: hijri-converter in /usr/local/lib/python3.7/dist-packages (from holidays>=0.10.2->kats) (2.2.4)\n",
            "Requirement already satisfied: korean-lunar-calendar in /usr/local/lib/python3.7/dist-packages (from holidays>=0.10.2->kats) (0.2.1)\n",
            "Requirement already satisfied: pytz in /usr/local/lib/python3.7/dist-packages (from LunarCalendar>=0.0.9->kats) (2022.2.1)\n",
            "Requirement already satisfied: ephem>=3.7.5.3 in /usr/local/lib/python3.7/dist-packages (from LunarCalendar>=0.0.9->kats) (4.1.3)\n",
            "Requirement already satisfied: pyparsing!=2.0.4,!=2.1.2,!=2.1.6,>=2.0.1 in /usr/local/lib/python3.7/dist-packages (from matplotlib>=2.0.0->kats) (3.0.9)\n",
            "Requirement already satisfied: kiwisolver>=1.0.1 in /usr/local/lib/python3.7/dist-packages (from matplotlib>=2.0.0->kats) (1.4.4)\n",
            "Requirement already satisfied: cycler>=0.10 in /usr/local/lib/python3.7/dist-packages (from matplotlib>=2.0.0->kats) (0.11.0)\n",
            "Requirement already satisfied: setuptools<60 in /usr/local/lib/python3.7/dist-packages (from numba>=0.52.0->kats) (57.4.0)\n",
            "Requirement already satisfied: llvmlite<0.40,>=0.39.0dev0 in /usr/local/lib/python3.7/dist-packages (from numba>=0.52.0->kats) (0.39.1)\n",
            "Requirement already satisfied: six in /usr/local/lib/python3.7/dist-packages (from patsy>=0.5->statsmodels==0.12.2->kats) (1.15.0)\n",
            "Requirement already satisfied: tenacity>=6.2.0 in /usr/local/lib/python3.7/dist-packages (from plotly>=2.2.1->kats) (8.0.1)\n",
            "Requirement already satisfied: Pillow in /usr/local/lib/python3.7/dist-packages (from pytest-mpl>=0.12->kats) (7.1.2)\n",
            "Requirement already satisfied: importlib-resources in /usr/local/lib/python3.7/dist-packages (from pytest-mpl>=0.12->kats) (5.9.0)\n",
            "Requirement already satisfied: packaging in /usr/local/lib/python3.7/dist-packages (from pytest-mpl>=0.12->kats) (21.3)\n",
            "Requirement already satisfied: pytest in /usr/local/lib/python3.7/dist-packages (from pytest-mpl>=0.12->kats) (3.6.4)\n",
            "Requirement already satisfied: threadpoolctl>=2.0.0 in /usr/local/lib/python3.7/dist-packages (from scikit-learn>=0.24.2->kats) (3.1.0)\n",
            "Requirement already satisfied: joblib>=0.11 in /usr/local/lib/python3.7/dist-packages (from scikit-learn>=0.24.2->kats) (1.1.0)\n",
            "Requirement already satisfied: zipp>=0.5 in /usr/local/lib/python3.7/dist-packages (from importlib-metadata->kats) (3.8.1)\n",
            "Requirement already satisfied: MarkupSafe>=0.23 in /usr/local/lib/python3.7/dist-packages (from jinja2->ax-platform==0.2.4->kats) (2.0.1)\n",
            "Requirement already satisfied: more-itertools>=4.0.0 in /usr/local/lib/python3.7/dist-packages (from pytest->pytest-mpl>=0.12->kats) (8.14.0)\n",
            "Requirement already satisfied: pluggy<0.8,>=0.5 in /usr/local/lib/python3.7/dist-packages (from pytest->pytest-mpl>=0.12->kats) (0.7.1)\n",
            "Requirement already satisfied: atomicwrites>=1.0 in /usr/local/lib/python3.7/dist-packages (from pytest->pytest-mpl>=0.12->kats) (1.4.1)\n",
            "Requirement already satisfied: py>=1.5.0 in /usr/local/lib/python3.7/dist-packages (from pytest->pytest-mpl>=0.12->kats) (1.11.0)\n",
            "Building wheels for collected packages: fbprophet\n",
            "  Building wheel for fbprophet (setup.py) ... \u001b[?25lerror\n",
            "\u001b[31m  ERROR: Failed building wheel for fbprophet\u001b[0m\n",
            "\u001b[?25h  Running setup.py clean for fbprophet\n",
            "Failed to build fbprophet\n",
            "Installing collected packages: gpytorch, pystan, cmdstanpy, botorch, statsmodels, pytest-mpl, pymannkendall, parameterized, fbprophet, deprecated, ax-platform, kats\n",
            "  Attempting uninstall: pystan\n",
            "    Found existing installation: pystan 3.3.0\n",
            "    Uninstalling pystan-3.3.0:\n",
            "      Successfully uninstalled pystan-3.3.0\n",
            "  Attempting uninstall: cmdstanpy\n",
            "    Found existing installation: cmdstanpy 1.0.7\n",
            "    Uninstalling cmdstanpy-1.0.7:\n",
            "      Successfully uninstalled cmdstanpy-1.0.7\n",
            "  Attempting uninstall: statsmodels\n",
            "    Found existing installation: statsmodels 0.13.2\n",
            "    Uninstalling statsmodels-0.13.2:\n",
            "      Successfully uninstalled statsmodels-0.13.2\n",
            "    Running setup.py install for fbprophet ... \u001b[?25l\u001b[?25hdone\n",
            "\u001b[33m  DEPRECATION: fbprophet was installed using the legacy 'setup.py install' method, because a wheel could not be built for it. A possible replacement is to fix the wheel build issue reported above. You can find discussion regarding this at https://github.com/pypa/pip/issues/8368.\u001b[0m\n",
            "\u001b[31mERROR: pip's dependency resolver does not currently take into account all the packages that are installed. This behaviour is the source of the following dependency conflicts.\n",
            "prophet 1.1 requires cmdstanpy>=1.0.1, but you have cmdstanpy 0.9.5 which is incompatible.\n",
            "pmdarima 2.0.1 requires statsmodels>=0.13.2, but you have statsmodels 0.12.2 which is incompatible.\u001b[0m\n",
            "Successfully installed ax-platform-0.2.4 botorch-0.6.2 cmdstanpy-0.9.5 deprecated-1.2.13 fbprophet-0.7.1 gpytorch-1.8.1 kats-0.2.0 parameterized-0.8.1 pymannkendall-1.4.2 pystan-2.19.1.1 pytest-mpl-0.16.1 statsmodels-0.12.2\n"
          ]
        },
        {
          "output_type": "display_data",
          "data": {
            "application/vnd.colab-display-data+json": {
              "pip_warning": {
                "packages": [
                  "statsmodels"
                ]
              }
            }
          },
          "metadata": {}
        }
      ]
    },
    {
      "cell_type": "code",
      "source": [
        "import pandas as pd\n",
        "\n",
        "from kats.consts import TimeSeriesData\n",
        "from kats.models.prophet import ProphetModel, ProphetParams"
      ],
      "metadata": {
        "id": "OQAFy6_PKT1_"
      },
      "execution_count": null,
      "outputs": []
    },
    {
      "cell_type": "code",
      "source": [
        "def univariate_prophet(df: pd.DataFrame, column_name: str):\n",
        "  stage_completition_col_name = \"Stage Completion Time\"\n",
        "  train_split = 0.9\n",
        "  test_split = 0.1\n",
        "\n",
        "  base_df = df[df[column_name].notnull()][[column_name]].reset_index()\n",
        "\n",
        "  train_idx = round(len(base_df) * train_split)\n",
        "  train_df = base_df.iloc[:train_idx, :]\n",
        "  test_df = base_df.iloc[train_idx:, :]\n",
        "\n",
        "  train_ts = TimeSeriesData(train_df, time_col_name=stage_completition_col_name)\n",
        "\n",
        "  # create a model param instance\n",
        "  params = ProphetParams(growth='logistic',\n",
        "                         seasonality_mode ='multiplicative',\n",
        "                         cap=train_df[column_name].max())\n",
        "\n",
        "\n",
        "  # create a prophet model instance\n",
        "  m = ProphetModel(train_ts, params)\n",
        "\n",
        "  m.fit()\n",
        "\n",
        "  # make prediction for next len(test_df) datapoints\n",
        "  predictions = m.predict(steps=len(test_df))\n",
        "\n",
        "  test_df = test_df.assign(prediction=predictions['fcst'].values)\n",
        "  test_df = test_df.assign(prediction_lower=predictions['fcst_lower'].values)\n",
        "  test_df = test_df.assign(prediction_upper=predictions['fcst_upper'].values)\n",
        "\n",
        "  for col in ['prediction', 'prediction_lower', 'prediction_upper']:\n",
        "    test_df[col] = test_df[col].clip(lower=0.0)\n",
        "\n",
        "  print(\"Test data with predictions\")\n",
        "  print(test_df)"
      ],
      "metadata": {
        "id": "eiEp13LUK-8Q"
      },
      "execution_count": null,
      "outputs": []
    },
    {
      "cell_type": "code",
      "source": [
        "for column in grouped_ts.columns:\n",
        "  print(\"========================================\")\n",
        "  print(f\"Prophet for forecasting {column}\")\n",
        "  univariate_prophet(grouped_ts, column)\n",
        "  print(\"========================================\")"
      ],
      "metadata": {
        "colab": {
          "base_uri": "https://localhost:8080/"
        },
        "id": "Se-C9xUgL8qJ",
        "outputId": "02fff7b5-cd64-4c15-d096-a58870b85f26"
      },
      "execution_count": null,
      "outputs": [
        {
          "output_type": "stream",
          "name": "stdout",
          "text": [
            "========================================\n",
            "Prophet for forecasting INSTALLATION sum Time taken to complete stage (in days)\n"
          ]
        },
        {
          "output_type": "stream",
          "name": "stderr",
          "text": [
            "INFO:fbprophet:Disabling yearly seasonality. Run prophet with yearly_seasonality=True to override this.\n",
            "INFO:fbprophet:n_changepoints greater than number of observations. Using 22.\n",
            "INFO:fbprophet:Disabling yearly seasonality. Run prophet with yearly_seasonality=True to override this.\n",
            "INFO:fbprophet:n_changepoints greater than number of observations. Using 18.\n"
          ]
        },
        {
          "output_type": "stream",
          "name": "stdout",
          "text": [
            "Test data with predictions\n",
            "   Stage Completion Time  INSTALLATION sum Time taken to complete stage (in days)  prediction  prediction_lower  prediction_upper\n",
            "29   2018-06-19 19:54:18                                         623.402338        516.559984          0.000000       1106.670191\n",
            "30   2018-06-19 19:55:10                                         884.467662        950.926889        360.772481       1525.163340\n",
            "31   2018-06-19 19:56:55                                         380.785903          0.000000          0.000000          0.000000\n",
            "========================================\n",
            "========================================\n",
            "Prophet for forecasting PROCUREMENT sum Time taken to complete stage (in days)\n"
          ]
        },
        {
          "output_type": "stream",
          "name": "stderr",
          "text": [
            "INFO:fbprophet:Disabling yearly seasonality. Run prophet with yearly_seasonality=True to override this.\n",
            "INFO:fbprophet:n_changepoints greater than number of observations. Using 3.\n"
          ]
        },
        {
          "output_type": "stream",
          "name": "stdout",
          "text": [
            "Test data with predictions\n",
            "   Stage Completion Time  PROCUREMENT sum Time taken to complete stage (in days)   prediction  prediction_lower  prediction_upper\n",
            "24   2018-06-19 19:49:07                                        1159.259971       1309.344252       1077.770060       1550.719251\n",
            "25   2018-06-19 19:50:26                                         579.632442        513.872802        285.795837        757.434122\n",
            "26   2018-06-19 19:51:39                                         772.846134        222.213131          6.112338        464.058147\n",
            "========================================\n",
            "========================================\n",
            "Prophet for forecasting SHIPPING sum Time taken to complete stage (in days)\n"
          ]
        },
        {
          "output_type": "stream",
          "name": "stderr",
          "text": [
            "INFO:fbprophet:Disabling yearly seasonality. Run prophet with yearly_seasonality=True to override this.\n",
            "INFO:fbprophet:n_changepoints greater than number of observations. Using 22.\n"
          ]
        },
        {
          "output_type": "stream",
          "name": "stdout",
          "text": [
            "Test data with predictions\n",
            "  Stage Completion Time  SHIPPING sum Time taken to complete stage (in days)  prediction  prediction_lower  prediction_upper\n",
            "6   2018-06-22 12:19:51                                         482.973125           0.0               0.0               0.0\n",
            "========================================\n",
            "========================================\n",
            "Prophet for forecasting INSTALLATION avg Time taken to complete stage (in days)\n"
          ]
        },
        {
          "output_type": "stream",
          "name": "stderr",
          "text": [
            "INFO:fbprophet:Disabling yearly seasonality. Run prophet with yearly_seasonality=True to override this.\n",
            "INFO:fbprophet:n_changepoints greater than number of observations. Using 18.\n"
          ]
        },
        {
          "output_type": "stream",
          "name": "stdout",
          "text": [
            "Test data with predictions\n",
            "   Stage Completion Time  INSTALLATION avg Time taken to complete stage (in days)  prediction  prediction_lower  prediction_upper\n",
            "29   2018-06-19 19:54:18                                          89.057477        112.158706         87.259834        136.622142\n",
            "30   2018-06-19 19:55:10                                          63.176262         83.786733         59.327386        107.173863\n",
            "31   2018-06-19 19:56:55                                          27.198993         30.980572          7.259019         54.344915\n",
            "========================================\n",
            "========================================\n",
            "Prophet for forecasting PROCUREMENT avg Time taken to complete stage (in days)\n"
          ]
        },
        {
          "output_type": "stream",
          "name": "stderr",
          "text": [
            "INFO:fbprophet:Disabling yearly seasonality. Run prophet with yearly_seasonality=True to override this.\n",
            "INFO:fbprophet:n_changepoints greater than number of observations. Using 3.\n"
          ]
        },
        {
          "output_type": "stream",
          "name": "stdout",
          "text": [
            "Test data with predictions\n",
            "   Stage Completion Time  PROCUREMENT avg Time taken to complete stage (in days)  prediction  prediction_lower  prediction_upper\n",
            "24   2018-06-19 19:49:07                                         193.209994       227.292021        226.781488        227.799910\n",
            "25   2018-06-19 19:50:26                                         193.210816       139.216844        138.704127        139.731862\n",
            "26   2018-06-19 19:51:39                                         193.211534       149.764571        149.272581        150.224767\n",
            "========================================\n",
            "========================================\n",
            "Prophet for forecasting SHIPPING avg Time taken to complete stage (in days)\n",
            "Test data with predictions\n",
            "  Stage Completion Time  SHIPPING avg Time taken to complete stage (in days)  prediction  prediction_lower  prediction_upper\n",
            "6   2018-06-22 12:19:51                                         160.991042    172.655009        172.655009        172.655009\n",
            "========================================\n"
          ]
        }
      ]
    },
    {
      "cell_type": "code",
      "source": [],
      "metadata": {
        "id": "YiPFfM5TNEW9"
      },
      "execution_count": null,
      "outputs": []
    }
  ]
}