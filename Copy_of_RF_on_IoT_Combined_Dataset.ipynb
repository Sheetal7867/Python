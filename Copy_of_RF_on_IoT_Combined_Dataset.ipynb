{
  "cells": [
    {
      "cell_type": "markdown",
      "metadata": {
        "id": "T7pfeDyJNZhl"
      },
      "source": [
        "Sheetal\n",
        "student id-21007564\n",
        "\n",
        "## Dataset 2"
      ]
    },
    {
      "cell_type": "markdown",
      "metadata": {
        "id": "-r0NBbVn8M09"
      },
      "source": [
        "\n",
        "### Importing libraries"
      ]
    },
    {
      "cell_type": "code",
      "execution_count": null,
      "metadata": {
        "id": "OXpTJZrG8Qy9"
      },
      "outputs": [],
      "source": [
        "import timeit\n",
        "import pandas as pd\n",
        "import numpy as np\n",
        "import seaborn as sns\n",
        "import matplotlib.pyplot as plt\n",
        "from sklearn.model_selection import train_test_split\n",
        "from sklearn.ensemble import RandomForestClassifier\n",
        "from sklearn import metrics\n",
        "from sklearn.metrics import classification_report, confusion_matrix\n",
        "from sklearn.metrics import roc_curve\n",
        "from sklearn.metrics import roc_auc_score\n",
        "import warnings\n",
        "%matplotlib inline\n",
        "warnings.filterwarnings('ignore')\n",
        "#warnings.filterwarnings('always')"
      ]
    },
    {
      "cell_type": "markdown",
      "metadata": {
        "id": "oiOpc7dkCFAt"
      },
      "source": [
        "### Importing the Dataset"
      ]
    },
    {
      "cell_type": "code",
      "execution_count": null,
      "metadata": {
        "colab": {
          "base_uri": "https://localhost:8080/",
          "height": 73
        },
        "id": "UUZwxemN8UW1",
        "outputId": "67087ab3-9331-4e11-93f0-0b6b0efefc3a"
      },
      "outputs": [
        {
          "output_type": "display_data",
          "data": {
            "text/plain": [
              "<IPython.core.display.HTML object>"
            ],
            "text/html": [
              "\n",
              "     <input type=\"file\" id=\"files-9d9006f8-c30f-42ef-b541-dff68a1a4f9a\" name=\"files[]\" multiple disabled\n",
              "        style=\"border:none\" />\n",
              "     <output id=\"result-9d9006f8-c30f-42ef-b541-dff68a1a4f9a\">\n",
              "      Upload widget is only available when the cell has been executed in the\n",
              "      current browser session. Please rerun this cell to enable.\n",
              "      </output>\n",
              "      <script>// Copyright 2017 Google LLC\n",
              "//\n",
              "// Licensed under the Apache License, Version 2.0 (the \"License\");\n",
              "// you may not use this file except in compliance with the License.\n",
              "// You may obtain a copy of the License at\n",
              "//\n",
              "//      http://www.apache.org/licenses/LICENSE-2.0\n",
              "//\n",
              "// Unless required by applicable law or agreed to in writing, software\n",
              "// distributed under the License is distributed on an \"AS IS\" BASIS,\n",
              "// WITHOUT WARRANTIES OR CONDITIONS OF ANY KIND, either express or implied.\n",
              "// See the License for the specific language governing permissions and\n",
              "// limitations under the License.\n",
              "\n",
              "/**\n",
              " * @fileoverview Helpers for google.colab Python module.\n",
              " */\n",
              "(function(scope) {\n",
              "function span(text, styleAttributes = {}) {\n",
              "  const element = document.createElement('span');\n",
              "  element.textContent = text;\n",
              "  for (const key of Object.keys(styleAttributes)) {\n",
              "    element.style[key] = styleAttributes[key];\n",
              "  }\n",
              "  return element;\n",
              "}\n",
              "\n",
              "// Max number of bytes which will be uploaded at a time.\n",
              "const MAX_PAYLOAD_SIZE = 100 * 1024;\n",
              "\n",
              "function _uploadFiles(inputId, outputId) {\n",
              "  const steps = uploadFilesStep(inputId, outputId);\n",
              "  const outputElement = document.getElementById(outputId);\n",
              "  // Cache steps on the outputElement to make it available for the next call\n",
              "  // to uploadFilesContinue from Python.\n",
              "  outputElement.steps = steps;\n",
              "\n",
              "  return _uploadFilesContinue(outputId);\n",
              "}\n",
              "\n",
              "// This is roughly an async generator (not supported in the browser yet),\n",
              "// where there are multiple asynchronous steps and the Python side is going\n",
              "// to poll for completion of each step.\n",
              "// This uses a Promise to block the python side on completion of each step,\n",
              "// then passes the result of the previous step as the input to the next step.\n",
              "function _uploadFilesContinue(outputId) {\n",
              "  const outputElement = document.getElementById(outputId);\n",
              "  const steps = outputElement.steps;\n",
              "\n",
              "  const next = steps.next(outputElement.lastPromiseValue);\n",
              "  return Promise.resolve(next.value.promise).then((value) => {\n",
              "    // Cache the last promise value to make it available to the next\n",
              "    // step of the generator.\n",
              "    outputElement.lastPromiseValue = value;\n",
              "    return next.value.response;\n",
              "  });\n",
              "}\n",
              "\n",
              "/**\n",
              " * Generator function which is called between each async step of the upload\n",
              " * process.\n",
              " * @param {string} inputId Element ID of the input file picker element.\n",
              " * @param {string} outputId Element ID of the output display.\n",
              " * @return {!Iterable<!Object>} Iterable of next steps.\n",
              " */\n",
              "function* uploadFilesStep(inputId, outputId) {\n",
              "  const inputElement = document.getElementById(inputId);\n",
              "  inputElement.disabled = false;\n",
              "\n",
              "  const outputElement = document.getElementById(outputId);\n",
              "  outputElement.innerHTML = '';\n",
              "\n",
              "  const pickedPromise = new Promise((resolve) => {\n",
              "    inputElement.addEventListener('change', (e) => {\n",
              "      resolve(e.target.files);\n",
              "    });\n",
              "  });\n",
              "\n",
              "  const cancel = document.createElement('button');\n",
              "  inputElement.parentElement.appendChild(cancel);\n",
              "  cancel.textContent = 'Cancel upload';\n",
              "  const cancelPromise = new Promise((resolve) => {\n",
              "    cancel.onclick = () => {\n",
              "      resolve(null);\n",
              "    };\n",
              "  });\n",
              "\n",
              "  // Wait for the user to pick the files.\n",
              "  const files = yield {\n",
              "    promise: Promise.race([pickedPromise, cancelPromise]),\n",
              "    response: {\n",
              "      action: 'starting',\n",
              "    }\n",
              "  };\n",
              "\n",
              "  cancel.remove();\n",
              "\n",
              "  // Disable the input element since further picks are not allowed.\n",
              "  inputElement.disabled = true;\n",
              "\n",
              "  if (!files) {\n",
              "    return {\n",
              "      response: {\n",
              "        action: 'complete',\n",
              "      }\n",
              "    };\n",
              "  }\n",
              "\n",
              "  for (const file of files) {\n",
              "    const li = document.createElement('li');\n",
              "    li.append(span(file.name, {fontWeight: 'bold'}));\n",
              "    li.append(span(\n",
              "        `(${file.type || 'n/a'}) - ${file.size} bytes, ` +\n",
              "        `last modified: ${\n",
              "            file.lastModifiedDate ? file.lastModifiedDate.toLocaleDateString() :\n",
              "                                    'n/a'} - `));\n",
              "    const percent = span('0% done');\n",
              "    li.appendChild(percent);\n",
              "\n",
              "    outputElement.appendChild(li);\n",
              "\n",
              "    const fileDataPromise = new Promise((resolve) => {\n",
              "      const reader = new FileReader();\n",
              "      reader.onload = (e) => {\n",
              "        resolve(e.target.result);\n",
              "      };\n",
              "      reader.readAsArrayBuffer(file);\n",
              "    });\n",
              "    // Wait for the data to be ready.\n",
              "    let fileData = yield {\n",
              "      promise: fileDataPromise,\n",
              "      response: {\n",
              "        action: 'continue',\n",
              "      }\n",
              "    };\n",
              "\n",
              "    // Use a chunked sending to avoid message size limits. See b/62115660.\n",
              "    let position = 0;\n",
              "    do {\n",
              "      const length = Math.min(fileData.byteLength - position, MAX_PAYLOAD_SIZE);\n",
              "      const chunk = new Uint8Array(fileData, position, length);\n",
              "      position += length;\n",
              "\n",
              "      const base64 = btoa(String.fromCharCode.apply(null, chunk));\n",
              "      yield {\n",
              "        response: {\n",
              "          action: 'append',\n",
              "          file: file.name,\n",
              "          data: base64,\n",
              "        },\n",
              "      };\n",
              "\n",
              "      let percentDone = fileData.byteLength === 0 ?\n",
              "          100 :\n",
              "          Math.round((position / fileData.byteLength) * 100);\n",
              "      percent.textContent = `${percentDone}% done`;\n",
              "\n",
              "    } while (position < fileData.byteLength);\n",
              "  }\n",
              "\n",
              "  // All done.\n",
              "  yield {\n",
              "    response: {\n",
              "      action: 'complete',\n",
              "    }\n",
              "  };\n",
              "}\n",
              "\n",
              "scope.google = scope.google || {};\n",
              "scope.google.colab = scope.google.colab || {};\n",
              "scope.google.colab._files = {\n",
              "  _uploadFiles,\n",
              "  _uploadFilesContinue,\n",
              "};\n",
              "})(self);\n",
              "</script> "
            ]
          },
          "metadata": {}
        },
        {
          "output_type": "stream",
          "name": "stdout",
          "text": [
            "Saving Processed_Combined_IoT_dataset.csv to Processed_Combined_IoT_dataset.csv\n"
          ]
        }
      ],
      "source": [
        "from google.colab import files\n",
        "uploaded = files.upload()\n",
        "import pandas as pd\n",
        "\n",
        "import io\n",
        "\n",
        "dataset = pd.read_csv(io.BytesIO(uploaded['Processed_Combined_IoT_dataset.csv']))"
      ]
    },
    {
      "cell_type": "markdown",
      "metadata": {
        "id": "FKVcf68pHPc7"
      },
      "source": [
        "### Exploratory Data Analysis"
      ]
    },
    {
      "cell_type": "code",
      "execution_count": null,
      "metadata": {
        "id": "6h-_fPfSCO_U"
      },
      "outputs": [],
      "source": [
        "dataset.head()"
      ]
    },
    {
      "cell_type": "code",
      "execution_count": null,
      "metadata": {
        "id": "jhg4RxOiDs8_"
      },
      "outputs": [],
      "source": [
        "print(dataset.shape)"
      ]
    },
    {
      "cell_type": "code",
      "execution_count": null,
      "metadata": {
        "id": "dWFn2h71HW_i"
      },
      "outputs": [],
      "source": [
        "print(list(dataset.columns))"
      ]
    },
    {
      "cell_type": "code",
      "execution_count": null,
      "metadata": {
        "id": "hngwEjD7Haaz"
      },
      "outputs": [],
      "source": [
        "target_cols=[dataset.columns[-1]]\n",
        "target_cols"
      ]
    },
    {
      "cell_type": "code",
      "execution_count": null,
      "metadata": {
        "id": "xn3Hl6wqHhUa"
      },
      "outputs": [],
      "source": [
        "feature_cols= list(dataset.columns[:-1])\n",
        "feature_cols"
      ]
    },
    {
      "cell_type": "markdown",
      "metadata": {
        "id": "Trdq0q8iHzS_"
      },
      "source": [
        "### Split Dataset"
      ]
    },
    {
      "cell_type": "code",
      "execution_count": null,
      "metadata": {
        "id": "rSllHgTTHuH-"
      },
      "outputs": [],
      "source": [
        "# Split dataset in features and target variable\n",
        "X = dataset.drop('label', axis=1) # Features\n",
        "y = dataset['label'] # Target variable"
      ]
    },
    {
      "cell_type": "code",
      "execution_count": null,
      "metadata": {
        "id": "B-78tTCiH7kE"
      },
      "outputs": [],
      "source": [
        "X.head()"
      ]
    },
    {
      "cell_type": "code",
      "execution_count": null,
      "metadata": {
        "id": "OIflt3BCH_VQ"
      },
      "outputs": [],
      "source": [
        "y.head()"
      ]
    },
    {
      "cell_type": "markdown",
      "metadata": {
        "id": "eDmTXhKJIJmD"
      },
      "source": [
        "### Splitting Data"
      ]
    },
    {
      "cell_type": "code",
      "execution_count": null,
      "metadata": {
        "id": "r-XW5sRGICls"
      },
      "outputs": [],
      "source": [
        "# Split dataset into training set and test set\n",
        "X_train, X_test, y_train, y_test = train_test_split(X, y, test_size=0.3, random_state=1) # 70% training and 30% test"
      ]
    },
    {
      "cell_type": "code",
      "execution_count": null,
      "metadata": {
        "id": "06VqDPZQIOEz"
      },
      "outputs": [],
      "source": [
        "# Check the shape of all of these\n",
        "print(\"X_train shape is : \", X_train.shape)\n",
        "print(\"X_test shape  is : \", X_test.shape)\n",
        "print(\"y_train shape is : \", y_train.shape)\n",
        "print(\"y_test shape is  : \", y_test.shape)"
      ]
    },
    {
      "cell_type": "markdown",
      "metadata": {
        "id": "25OlYJxtIW0E"
      },
      "source": [
        "### Building Random Forest Model"
      ]
    },
    {
      "cell_type": "code",
      "execution_count": null,
      "metadata": {
        "id": "PmlwwJx-IS6D"
      },
      "outputs": [],
      "source": [
        "def fit_model(model, features, labels):\n",
        "  #Calculate start time\n",
        "  start = timeit.default_timer()\n",
        "\n",
        "  #Train the model using the training sets y_pred=clf.predict(X_test)\n",
        "  model.fit(features, labels)\n",
        "\n",
        "  #Calculate Stop time\n",
        "  stop = timeit.default_timer()\n",
        "  train_time= stop - start\n",
        "  return train_time"
      ]
    },
    {
      "cell_type": "code",
      "execution_count": null,
      "metadata": {
        "id": "llF1urbgIY1-"
      },
      "outputs": [],
      "source": [
        "def predict_on_test(model, test_features):\n",
        "  # Calculate start time\n",
        "  start = timeit.default_timer()\n",
        "\n",
        "  # Predict the model\n",
        "  y_pred = model.predict(X_test)\n",
        "\n",
        "  # Calculate Stop time\n",
        "  stop = timeit.default_timer()\n",
        "  test_time = stop - start\n",
        "  return y_pred, test_time"
      ]
    },
    {
      "cell_type": "code",
      "execution_count": null,
      "metadata": {
        "id": "t8REucs9Soo1"
      },
      "outputs": [],
      "source": [
        "# Create a Gaussian Classifier\n",
        "clf = RandomForestClassifier(n_estimators=100)\n",
        "train_time = fit_model(clf, X_train, y_train)\n",
        "y_pred, test_time = predict_on_test(clf, X_test)"
      ]
    },
    {
      "cell_type": "markdown",
      "metadata": {
        "id": "nn-Piwi9I8ZM"
      },
      "source": [
        "### Evaluating Model"
      ]
    },
    {
      "cell_type": "code",
      "execution_count": null,
      "metadata": {
        "id": "9UzYbxuWIvOa"
      },
      "outputs": [],
      "source": [
        "conf_mat = confusion_matrix(y_test,y_pred)\n",
        "print(conf_mat)\n",
        "print(classification_report(y_test,y_pred))"
      ]
    },
    {
      "cell_type": "code",
      "execution_count": null,
      "metadata": {
        "colab": {
          "base_uri": "https://localhost:8080/",
          "height": 279
        },
        "id": "rlGaV3bgrd0j",
        "outputId": "a909709c-107f-41d2-f0d6-e5454e887116"
      },
      "outputs": [
        {
          "output_type": "display_data",
          "data": {
            "text/plain": [
              "<Figure size 432x288 with 2 Axes>"
            ],
            "image/png": "[encoded data removed]"
          },
          "metadata": {
            "needs_background": "light"
          }
        }
      ],
      "source": [
        "from sklearn.metrics import ConfusionMatrixDisplay\n",
        "import matplotlib.pyplot as plt\n",
        "cm_display = ConfusionMatrixDisplay(confusion_matrix = conf_mat, display_labels = [0, 1])\n",
        "\n",
        "cm_display.plot()\n",
        "plt.show()"
      ]
    },
    {
      "cell_type": "code",
      "execution_count": null,
      "metadata": {
        "id": "K8DdxadzJAxN"
      },
      "outputs": [],
      "source": [
        "def print_evaluation_metrics(y_test, y_pred, train_time, test_time):\n",
        "  # Model Accuracy: how often is the classifier correct?\n",
        "  print(\"Accuracy:\",metrics.accuracy_score(y_test, y_pred))\n",
        "\n",
        "  # Model Precision: what percentage of positive tuples are labeled as such?\n",
        "  print(\"Precision:\",metrics.precision_score(y_test, y_pred))\n",
        "\n",
        "  # Model Recall: what percentage of positive tuples are labelled as such?\n",
        "  print(\"Recall:\",metrics.recall_score(y_test, y_pred))\n",
        "\n",
        "  #Calculate F1 Score\n",
        "  print(\"F1 Score:\",metrics.f1_score(y_test, y_pred))\n",
        "\n",
        "  #Calculate Mean Absolute Error\n",
        "  print(\"Mean Absolute Error:\",metrics.mean_absolute_error(y_test, y_pred))\n",
        "\n",
        "  # kappa\n",
        "  print(\"Cohens kappa:\", metrics.cohen_kappa_score(y_test, y_pred))\n",
        "\n",
        "  # ROC AUC\n",
        "  print(\"ROC AUC:\", metrics.roc_auc_score(y_test, y_pred))\n",
        "\n",
        "  #Train time\n",
        "  print('Train Time(s): ',train_time)\n",
        "\n",
        "  #Test time\n",
        "  print('Test Time(s): ',test_time)"
      ]
    },
    {
      "cell_type": "code",
      "execution_count": null,
      "metadata": {
        "id": "2BjY-lN5N0FC"
      },
      "outputs": [],
      "source": [
        "print_evaluation_metrics(y_test, y_pred, train_time, test_time)"
      ]
    },
    {
      "cell_type": "markdown",
      "metadata": {
        "id": "j6YsEQrCJ4VU"
      },
      "source": [
        "### Build K-Nearest Neighbours Model"
      ]
    },
    {
      "cell_type": "code",
      "execution_count": null,
      "metadata": {
        "id": "jSnnZ7CAJE6Z"
      },
      "outputs": [],
      "source": [
        "from sklearn.neighbors import KNeighborsClassifier"
      ]
    },
    {
      "cell_type": "code",
      "execution_count": null,
      "metadata": {
        "id": "FfP86-NBKBaR"
      },
      "outputs": [],
      "source": [
        "# Create a KNN Classifier\n",
        "knn_clf = KNeighborsClassifier(n_neighbors=3)\n",
        "train_time = fit_model(knn_clf, X_train, y_train)\n",
        "knn_y_pred, test_time = predict_on_test(knn_clf, X_test)"
      ]
    },
    {
      "cell_type": "markdown",
      "metadata": {
        "id": "awTqIvLfKtdB"
      },
      "source": [
        "### Evaluating KNN Model"
      ]
    },
    {
      "cell_type": "code",
      "execution_count": null,
      "metadata": {
        "id": "MQTd5P_FKkQw"
      },
      "outputs": [],
      "source": [
        "conf_mat = confusion_matrix(y_test,knn_y_pred)\n",
        "print(conf_mat)\n",
        "print(classification_report(y_test,knn_y_pred))"
      ]
    },
    {
      "cell_type": "code",
      "execution_count": null,
      "metadata": {
        "colab": {
          "base_uri": "https://localhost:8080/",
          "height": 279
        },
        "id": "G0JU71KCs4_w",
        "outputId": "6f8d66fb-cad4-4432-e24a-7cac1b30e21d"
      },
      "outputs": [
        {
          "output_type": "display_data",
          "data": {
            "text/plain": [
              "<Figure size 432x288 with 2 Axes>"
            ],
            "image/png": "[encoded data removed]"
          },
          "metadata": {
            "needs_background": "light"
          }
        }
      ],
      "source": [
        "from sklearn.metrics import ConfusionMatrixDisplay\n",
        "import matplotlib.pyplot as plt\n",
        "cm_display = ConfusionMatrixDisplay(confusion_matrix = conf_mat, display_labels = [0, 1])\n",
        "\n",
        "cm_display.plot()\n",
        "plt.show()"
      ]
    },
    {
      "cell_type": "code",
      "execution_count": null,
      "metadata": {
        "id": "SXOFXpd8KwVP"
      },
      "outputs": [],
      "source": [
        "print_evaluation_metrics(y_test, knn_y_pred, train_time, test_time)"
      ]
    },
    {
      "cell_type": "markdown",
      "metadata": {
        "id": "dcTLBvQbUN5q"
      },
      "source": [
        "### Build Logistic Regression Model"
      ]
    },
    {
      "cell_type": "code",
      "execution_count": null,
      "metadata": {
        "id": "DBEw6o-rQcMB"
      },
      "outputs": [],
      "source": [
        "from sklearn.linear_model import LogisticRegression\n",
        "\n",
        "logistic_clf = LogisticRegression(random_state=0)\n",
        "train_time = fit_model(logistic_clf, X_train, y_train)\n",
        "logistic_y_pred, test_time = predict_on_test(logistic_clf, X_test)"
      ]
    },
    {
      "cell_type": "code",
      "execution_count": null,
      "metadata": {
        "id": "70VrUqBJUw9h"
      },
      "outputs": [],
      "source": [
        "conf_mat = confusion_matrix(y_test, logistic_y_pred)\n",
        "print(conf_mat)\n",
        "print(classification_report(y_test, logistic_y_pred))"
      ]
    },
    {
      "cell_type": "code",
      "execution_count": null,
      "metadata": {
        "id": "5C-8qrXHtpc5"
      },
      "outputs": [],
      "source": [
        "from sklearn.metrics import ConfusionMatrixDisplay\n",
        "import matplotlib.pyplot as plt\n",
        "cm_display = ConfusionMatrixDisplay(confusion_matrix = conf_mat, display_labels = [0, 1])\n",
        "\n",
        "cm_display.plot()\n",
        "plt.show()"
      ]
    },
    {
      "cell_type": "code",
      "execution_count": null,
      "metadata": {
        "id": "7nzzMzUBU4Zz"
      },
      "outputs": [],
      "source": [
        "print_evaluation_metrics(y_test, logistic_y_pred, train_time, test_time)"
      ]
    },
    {
      "cell_type": "markdown",
      "metadata": {
        "id": "5-2lxzAKbg5T"
      },
      "source": [
        "## **Build SVM Model**\n"
      ]
    },
    {
      "cell_type": "code",
      "execution_count": null,
      "metadata": {
        "id": "shQzQV9obvLe"
      },
      "outputs": [],
      "source": [
        "from sklearn.preprocessing import StandardScaler\n",
        "from sklearn.pipeline import make_pipeline\n",
        "from sklearn.linear_model import SGDClassifier\n",
        "\n",
        "svm_classifier= make_pipeline(StandardScaler(),\n",
        "                           SGDClassifier(max_iter=500, tol=1e-20, n_iter_no_change=5, learning_rate='adaptive', early_stopping=True, eta0=1e-2))\n",
        "train_time = fit_model(svm_classifier, X_train, y_train)\n",
        "svm_y_pred, test_time = predict_on_test(svm_classifier, X_test)"
      ]
    },
    {
      "cell_type": "code",
      "execution_count": null,
      "metadata": {
        "id": "vOxTrpd7fa4Q"
      },
      "outputs": [],
      "source": [
        "conf_mat = confusion_matrix(y_test, svm_y_pred)\n",
        "print(conf_mat)\n",
        "print(classification_report(y_test, svm_y_pred))"
      ]
    },
    {
      "cell_type": "code",
      "execution_count": null,
      "metadata": {
        "id": "2JH9_poitxun"
      },
      "outputs": [],
      "source": [
        "from sklearn.metrics import ConfusionMatrixDisplay\n",
        "import matplotlib.pyplot as plt\n",
        "cm_display = ConfusionMatrixDisplay(confusion_matrix = conf_mat, display_labels = [0, 1])\n",
        "\n",
        "cm_display.plot()\n",
        "plt.show()"
      ]
    },
    {
      "cell_type": "code",
      "execution_count": null,
      "metadata": {
        "id": "KCfT3O10gBFG"
      },
      "outputs": [],
      "source": [
        "print_evaluation_metrics(y_test, svm_y_pred, train_time, test_time)"
      ]
    },
    {
      "cell_type": "markdown",
      "metadata": {
        "id": "zIycDaeLnN0D"
      },
      "source": [
        "## Decision Tree **Classifier**"
      ]
    },
    {
      "cell_type": "code",
      "execution_count": null,
      "metadata": {
        "id": "2WTvcwPYniOS"
      },
      "outputs": [],
      "source": [
        "from sklearn.tree import DecisionTreeClassifier\n",
        "from sklearn.metrics import confusion_matrix, zero_one_loss\n",
        "\n",
        "dt_classifier = DecisionTreeClassifier(random_state=17)\n",
        "train_time = fit_model(dt_classifier, X_train, y_train)\n",
        "dt_y_pred, test_time = predict_on_test(dt_classifier, X_test)"
      ]
    },
    {
      "cell_type": "code",
      "execution_count": null,
      "metadata": {
        "colab": {
          "base_uri": "https://localhost:8080/"
        },
        "id": "u6qJDUJNoKHa",
        "outputId": "2496f92c-026a-454c-a8f4-b06bc46adf2f"
      },
      "outputs": [
        {
          "output_type": "stream",
          "name": "stdout",
          "text": [
            "[[69364  4131]\n",
            " [12143 34698]]\n",
            "              precision    recall  f1-score   support\n",
            "\n",
            "           0       0.85      0.94      0.90     73495\n",
            "           1       0.89      0.74      0.81     46841\n",
            "\n",
            "    accuracy                           0.86    120336\n",
            "   macro avg       0.87      0.84      0.85    120336\n",
            "weighted avg       0.87      0.86      0.86    120336\n",
            "\n"
          ]
        }
      ],
      "source": [
        "conf_mat = confusion_matrix(y_test, dt_y_pred)\n",
        "print(conf_mat)\n",
        "print(classification_report(y_test, dt_y_pred))"
      ]
    },
    {
      "cell_type": "code",
      "execution_count": null,
      "metadata": {
        "colab": {
          "base_uri": "https://localhost:8080/",
          "height": 279
        },
        "id": "b1L9Ks-Ut4qa",
        "outputId": "a6b36d24-0b12-41f9-d34e-0e7b61d48eb3"
      },
      "outputs": [
        {
          "output_type": "display_data",
          "data": {
            "text/plain": [
              "<Figure size 432x288 with 2 Axes>"
            ],
            "image/png": "[encoded data removed]"
          },
          "metadata": {
            "needs_background": "light"
          }
        }
      ],
      "source": [
        "from sklearn.metrics import ConfusionMatrixDisplay\n",
        "import matplotlib.pyplot as plt\n",
        "cm_display = ConfusionMatrixDisplay(confusion_matrix = conf_mat, display_labels = [0, 1])\n",
        "\n",
        "cm_display.plot()\n",
        "plt.show()"
      ]
    },
    {
      "cell_type": "code",
      "execution_count": null,
      "metadata": {
        "id": "XJzUqSenpSbH"
      },
      "outputs": [],
      "source": [
        "print_evaluation_metrics(y_test, dt_y_pred, train_time, test_time)"
      ]
    },
    {
      "cell_type": "markdown",
      "metadata": {
        "id": "0QRaOSU-vlAg"
      },
      "source": [
        "### Naive Bayes **Classifier**"
      ]
    },
    {
      "cell_type": "code",
      "execution_count": null,
      "metadata": {
        "id": "dsc8zdA7vp5-"
      },
      "outputs": [],
      "source": [
        "from sklearn.naive_bayes import GaussianNB\n",
        "nb_clf = GaussianNB()\n",
        "train_time = fit_model(nb_clf, X_train, y_train)\n",
        "nb_y_pred, test_time = predict_on_test(nb_clf, X_test)\n"
      ]
    },
    {
      "cell_type": "code",
      "execution_count": null,
      "metadata": {
        "id": "Yf6Amu4ewZVo"
      },
      "outputs": [],
      "source": [
        "conf_mat = confusion_matrix(y_test, nb_y_pred)\n",
        "print(conf_mat)\n",
        "print(classification_report(y_test, nb_y_pred))"
      ]
    },
    {
      "cell_type": "code",
      "execution_count": null,
      "metadata": {
        "id": "H9r3Rr3mt_iF"
      },
      "outputs": [],
      "source": [
        "from sklearn.metrics import ConfusionMatrixDisplay\n",
        "import matplotlib.pyplot as plt\n",
        "cm_display = ConfusionMatrixDisplay(confusion_matrix = conf_mat, display_labels = [0, 1])\n",
        "\n",
        "cm_display.plot()\n",
        "plt.show()"
      ]
    },
    {
      "cell_type": "code",
      "execution_count": null,
      "metadata": {
        "id": "tvcNggVfwhru"
      },
      "outputs": [],
      "source": [
        "print_evaluation_metrics(y_test, nb_y_pred, train_time, test_time)"
      ]
    },
    {
      "cell_type": "code",
      "execution_count": null,
      "metadata": {
        "id": "SO1vs5ByuBw0",
        "colab": {
          "base_uri": "https://localhost:8080/",
          "height": 295
        },
        "outputId": "e54ebb6d-d9f4-4aea-e0aa-b826e21320ab"
      },
      "outputs": [
        {
          "output_type": "display_data",
          "data": {
            "text/plain": [
              "<Figure size 432x288 with 1 Axes>"
            ],
            "image/png": "[encoded data removed]"
          },
          "metadata": {
            "needs_background": "light"
          }
        }
      ],
      "source": [
        "from sklearn.metrics import plot_precision_recall_curve\n",
        "import matplotlib.pyplot as plt\n",
        "\n",
        "plot_precision_recall_curve(clf, X_test, y_test, ax = plt.gca(),name = \"Random Forest\")\n",
        "plot_precision_recall_curve(knn_clf, X_test, y_test, ax = plt.gca(),name = \"K-Nearest Neighbours\")\n",
        "plot_precision_recall_curve(logistic_clf, X_test, y_test, ax = plt.gca(),name = \"Logistic Regression\")\n",
        "plot_precision_recall_curve(svm_classifier, X_test, y_test, ax = plt.gca(),name = \"Support Vector Machin\")\n",
        "plot_precision_recall_curve(dt_classifier, X_test, y_test, ax = plt.gca(),name = \"Decision Tree\")\n",
        "plot_precision_recall_curve(nb_clf, X_test, y_test, ax = plt.gca(),name = \"Naive Bayes\")\n",
        "\n",
        "plt.title('Precision-Recall curve')\n",
        "plt.show()"
      ]
    }
  ],
  "metadata": {
    "colab": {
      "provenance": []
    },
    "kernelspec": {
      "display_name": "Python 3",
      "name": "python3"
    },
    "language_info": {
      "name": "python"
    }
  },
  "nbformat": 4,
  "nbformat_minor": 0
}