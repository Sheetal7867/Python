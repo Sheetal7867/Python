{
  "nbformat": 4,
  "nbformat_minor": 0,
  "metadata": {
    "colab": {
      "provenance": []
    },
    "kernelspec": {
      "name": "python3",
      "display_name": "Python 3"
    },
    "language_info": {
      "name": "python"
    }
  },
  "cells": [
    {
      "cell_type": "markdown",
      "source": [
        "Sheetal\n",
        "Student Id-21007564\n",
        "\n",
        "# Dataset 1"
      ],
      "metadata": {
        "id": "ADxoIeRIN0uF"
      }
    },
    {
      "cell_type": "markdown",
      "source": [
        "# SECTION 1: DECLARE THE MODULES"
      ],
      "metadata": {
        "id": "Rk79bfa1fqGf"
      }
    },
    {
      "cell_type": "code",
      "source": [
        "import os\n",
        "from collections import defaultdict\n",
        "import pandas as pd\n",
        "import numpy as np\n",
        "import matplotlib.pyplot as plt\n",
        "\n",
        "import warnings\n",
        "warnings.filterwarnings('ignore')"
      ],
      "metadata": {
        "id": "6wnisIUUfruk"
      },
      "execution_count": null,
      "outputs": []
    },
    {
      "cell_type": "markdown",
      "source": [
        "# SECTION 2: Data import and preprocess\n"
      ],
      "metadata": {
        "id": "jI46BjsZfylx"
      }
    },
    {
      "cell_type": "code",
      "source": [
        "!pip install wget\n",
        "import wget\n",
        "\n",
        "link_to_data = 'https://raw.githubusercontent.com/SIT719/2020-S2/master/data/Week_5_NSL-KDD-Dataset/training_attack_types.txt?raw=true'\n",
        "DataSet = wget.download(link_to_data)"
      ],
      "metadata": {
        "colab": {
          "base_uri": "https://localhost:8080/"
        },
        "id": "JuYVnlvOfv5g",
        "outputId": "6cb3429a-6d4a-4cf9-91c0-e54b855b384d"
      },
      "execution_count": null,
      "outputs": [
        {
          "output_type": "stream",
          "name": "stdout",
          "text": [
            "Looking in indexes: https://pypi.org/simple, https://us-python.pkg.dev/colab-wheels/public/simple/\n",
            "Collecting wget\n",
            "  Using cached wget-3.2-py3-none-any.whl\n",
            "Installing collected packages: wget\n",
            "Successfully installed wget-3.2\n"
          ]
        }
      ]
    },
    {
      "cell_type": "code",
      "source": [
        "DataSet"
      ],
      "metadata": {
        "colab": {
          "base_uri": "https://localhost:8080/",
          "height": 35
        },
        "id": "du8r9MaLf_XF",
        "outputId": "618a5657-7dae-4c1c-df69-eea00fac4932"
      },
      "execution_count": null,
      "outputs": [
        {
          "output_type": "execute_result",
          "data": {
            "text/plain": [
              "'training_attack_types.txt'"
            ],
            "application/vnd.google.colaboratory.intrinsic+json": {
              "type": "string"
            }
          },
          "metadata": {},
          "execution_count": 5
        }
      ]
    },
    {
      "cell_type": "code",
      "source": [
        "header_names = ['duration', 'protocol_type', 'service', 'flag', 'src_bytes', 'dst_bytes', 'land', 'wrong_fragment', 'urgent', 'hot', 'num_failed_logins', 'logged_in', 'num_compromised', 'root_shell', 'su_attempted', 'num_root', 'num_file_creations', 'num_shells', 'num_access_files', 'num_outbound_cmds', 'is_host_login', 'is_guest_login', 'count', 'srv_count', 'serror_rate', 'srv_serror_rate', 'rerror_rate', 'srv_rerror_rate', 'same_srv_rate', 'diff_srv_rate', 'srv_diff_host_rate', 'dst_host_count', 'dst_host_srv_count', 'dst_host_same_srv_rate', 'dst_host_diff_srv_rate', 'dst_host_same_src_port_rate', 'dst_host_srv_diff_host_rate', 'dst_host_serror_rate', 'dst_host_srv_serror_rate', 'dst_host_rerror_rate', 'dst_host_srv_rerror_rate', 'attack_type', 'success_pred']\n",
        "\n",
        "\n",
        "# Differentiating between nominal, binary, and numeric features\n",
        "\n",
        "# root_shell is marked as a continuous feature in the kddcup.names\n",
        "# file, but it is supposed to be a binary feature according to the\n",
        "# dataset documentation\n",
        "\n",
        "# training_attack_types.txt maps each of the 22 different attacks to 1 of 4 categories\n",
        "# file obtained from http://kdd.ics.uci.edu/databases/kddcup99/training_attack_types\n",
        "\n",
        "col_names = np.array(header_names)\n",
        "\n",
        "nominal_idx = [1, 2, 3]\n",
        "binary_idx = [6, 11, 13, 14, 20, 21]\n",
        "numeric_idx = list(set(range(41)).difference(nominal_idx).difference(binary_idx))\n",
        "\n",
        "nominal_cols = col_names[nominal_idx].tolist()\n",
        "binary_cols = col_names[binary_idx].tolist()\n",
        "numeric_cols = col_names[numeric_idx].tolist()"
      ],
      "metadata": {
        "id": "NpTSmizZgJyl"
      },
      "execution_count": null,
      "outputs": []
    },
    {
      "cell_type": "code",
      "source": [
        "# training_attack_types.txt maps each of the 22 different attacks to 1 of 4 categories\n",
        "# file obtained from http://kdd.ics.uci.edu/databases/kddcup99/training_attack_types\n",
        "\n",
        "category = defaultdict(list)\n",
        "category['benign'].append('normal')\n",
        "\n",
        "with open(DataSet, 'r') as f:\n",
        "    for line in f.readlines():\n",
        "        attack, cat = line.strip().split(' ')\n",
        "        category[cat].append(attack)\n",
        "\n",
        "attack_mapping = dict((v,k) for k in category for v in category[k])"
      ],
      "metadata": {
        "id": "DgquQMWDgMsA"
      },
      "execution_count": null,
      "outputs": []
    },
    {
      "cell_type": "code",
      "source": [
        "attack_mapping"
      ],
      "metadata": {
        "colab": {
          "base_uri": "https://localhost:8080/"
        },
        "id": "UkH1MzzqgP3p",
        "outputId": "cecab78f-cc79-4b76-91e2-d3699f7d0666"
      },
      "execution_count": null,
      "outputs": [
        {
          "output_type": "execute_result",
          "data": {
            "text/plain": [
              "{'normal': 'benign',\n",
              " 'apache2': 'dos',\n",
              " 'back': 'dos',\n",
              " 'mailbomb': 'dos',\n",
              " 'processtable': 'dos',\n",
              " 'snmpgetattack': 'dos',\n",
              " 'teardrop': 'dos',\n",
              " 'smurf': 'dos',\n",
              " 'land': 'dos',\n",
              " 'neptune': 'dos',\n",
              " 'pod': 'dos',\n",
              " 'udpstorm': 'dos',\n",
              " 'ps': 'u2r',\n",
              " 'buffer_overflow': 'u2r',\n",
              " 'perl': 'u2r',\n",
              " 'rootkit': 'u2r',\n",
              " 'loadmodule': 'u2r',\n",
              " 'xterm': 'u2r',\n",
              " 'sqlattack': 'u2r',\n",
              " 'httptunnel': 'u2r',\n",
              " 'ftp_write': 'r2l',\n",
              " 'guess_passwd': 'r2l',\n",
              " 'snmpguess': 'r2l',\n",
              " 'imap': 'r2l',\n",
              " 'spy': 'r2l',\n",
              " 'warezclient': 'r2l',\n",
              " 'warezmaster': 'r2l',\n",
              " 'multihop': 'r2l',\n",
              " 'phf': 'r2l',\n",
              " 'named': 'r2l',\n",
              " 'sendmail': 'r2l',\n",
              " 'xlock': 'r2l',\n",
              " 'xsnoop': 'r2l',\n",
              " 'worm': 'probe',\n",
              " 'nmap': 'probe',\n",
              " 'ipsweep': 'probe',\n",
              " 'portsweep': 'probe',\n",
              " 'satan': 'probe',\n",
              " 'mscan': 'probe',\n",
              " 'saint': 'probe'}"
            ]
          },
          "metadata": {},
          "execution_count": 8
        }
      ]
    },
    {
      "cell_type": "code",
      "source": [
        "#Processing Training Data\n",
        "\n",
        "train_file='https://raw.githubusercontent.com/SIT719/2020-S2/master/data/Week_5_NSL-KDD-Dataset/KDDTrain%2B.txt'\n",
        "\n",
        "\n",
        "\n",
        "train_df = pd.read_csv(train_file, names=header_names)\n",
        "\n",
        "train_df['attack_category'] = train_df['attack_type'] \\\n",
        "                                .map(lambda x: attack_mapping[x])\n",
        "\n",
        "train_df.drop(['success_pred'], axis=1, inplace=True)"
      ],
      "metadata": {
        "id": "abqm3mI2gR4E"
      },
      "execution_count": null,
      "outputs": []
    },
    {
      "cell_type": "code",
      "source": [
        "#Processing test Data\n",
        "test_file='https://raw.githubusercontent.com/SIT719/2020-S2/master/data/Week_5_NSL-KDD-Dataset/KDDTest%2B.txt'\n",
        "\n",
        "test_df = pd.read_csv(test_file, names=header_names)\n",
        "test_df['attack_category'] = test_df['attack_type'] \\\n",
        "                                .map(lambda x: attack_mapping[x])\n",
        "test_df.drop(['success_pred'], axis=1, inplace=True)"
      ],
      "metadata": {
        "id": "_ahv5tXfgVaS"
      },
      "execution_count": null,
      "outputs": []
    },
    {
      "cell_type": "code",
      "source": [
        "train_attack_types = train_df['attack_type'].value_counts()\n",
        "train_attack_cats = train_df['attack_category'].value_counts()\n",
        "\n",
        "test_attack_types = test_df['attack_type'].value_counts()\n",
        "test_attack_cats = test_df['attack_category'].value_counts()\n",
        "\n",
        "train_attack_types.plot(kind='barh', figsize=(20,10), fontsize=20)\n",
        "\n",
        "train_attack_cats.plot(kind='barh', figsize=(20,10), fontsize=30)\n",
        "\n",
        "train_df[binary_cols].describe().transpose()\n",
        "train_df.groupby(['su_attempted']).size()\n",
        "train_df['su_attempted'].replace(2, 0, inplace=True)\n",
        "test_df['su_attempted'].replace(2, 0, inplace=True)\n",
        "train_df.groupby(['su_attempted']).size()\n",
        "train_df.groupby(['num_outbound_cmds']).size()\n",
        "\n",
        "#Now, that's not a very useful feature - let's drop it from the dataset\n",
        "\n",
        "train_df.drop('num_outbound_cmds', axis = 1, inplace=True)\n",
        "test_df.drop('num_outbound_cmds', axis = 1, inplace=True)\n",
        "numeric_cols.remove('num_outbound_cmds')\n",
        "\n",
        "\n",
        "\n",
        "#Data Preparation\n",
        "\n",
        "train_Y = train_df['attack_category']\n",
        "train_x_raw = train_df.drop(['attack_category','attack_type'], axis=1)\n",
        "test_Y = test_df['attack_category']\n",
        "test_x_raw = test_df.drop(['attack_category','attack_type'], axis=1)\n",
        "\n",
        "\n",
        "combined_df_raw = pd.concat([train_x_raw, test_x_raw])\n",
        "combined_df = pd.get_dummies(combined_df_raw, columns=nominal_cols, drop_first=True)\n",
        "\n",
        "train_x = combined_df[:len(train_x_raw)]\n",
        "test_x = combined_df[len(train_x_raw):]\n",
        "\n",
        "# Store dummy variable feature names\n",
        "dummy_variables = list(set(train_x)-set(combined_df_raw))\n",
        "\n",
        "#execute the commands in console\n",
        "train_x.describe()\n",
        "train_x['duration'].describe()\n",
        "# Experimenting with StandardScaler on the single 'duration' feature\n",
        "from sklearn.preprocessing import StandardScaler\n",
        "\n",
        "durations = train_x['duration'].values.reshape(-1, 1)\n",
        "standard_scaler = StandardScaler().fit(durations)\n",
        "scaled_durations = standard_scaler.transform(durations)\n",
        "pd.Series(scaled_durations.flatten()).describe()\n",
        "\n",
        "# Experimenting with MinMaxScaler on the single 'duration' feature\n",
        "from sklearn.preprocessing import MinMaxScaler\n",
        "\n",
        "min_max_scaler = MinMaxScaler().fit(durations)\n",
        "min_max_scaled_durations = min_max_scaler.transform(durations)\n",
        "pd.Series(min_max_scaled_durations.flatten()).describe()\n",
        "\n",
        "# Experimenting with RobustScaler on the single 'duration' feature\n",
        "from sklearn.preprocessing import RobustScaler\n",
        "\n",
        "min_max_scaler = RobustScaler().fit(durations)\n",
        "robust_scaled_durations = min_max_scaler.transform(durations)\n",
        "pd.Series(robust_scaled_durations.flatten()).describe()\n",
        "\n",
        "# Experimenting with MaxAbsScaler on the single 'duration' feature\n",
        "from sklearn.preprocessing import MaxAbsScaler\n",
        "\n",
        "max_Abs_scaler = MaxAbsScaler().fit(durations)\n",
        "robust_scaled_durations = max_Abs_scaler.transform(durations)\n",
        "pd.Series(robust_scaled_durations.flatten()).describe()\n",
        "\n",
        "# Let's proceed with StandardScaler- Apply to all the numeric columns\n",
        "\n",
        "standard_scaler = StandardScaler().fit(train_x[numeric_cols])\n",
        "\n",
        "train_x[numeric_cols] = \\\n",
        "    standard_scaler.transform(train_x[numeric_cols])\n",
        "\n",
        "test_x[numeric_cols] = \\\n",
        "    standard_scaler.transform(test_x[numeric_cols])\n",
        "\n",
        "train_x.describe()\n",
        "\n",
        "\n",
        "\n",
        "train_Y_bin = train_Y.apply(lambda x: 0 if x is 'benign' else 1)\n",
        "test_Y_bin = test_Y.apply(lambda x: 0 if x is 'benign' else 1)"
      ],
      "metadata": {
        "colab": {
          "base_uri": "https://localhost:8080/",
          "height": 611
        },
        "id": "VXSNhuq_gYEr",
        "outputId": "05548139-bfad-4f88-b38b-3366a86dffe1"
      },
      "execution_count": null,
      "outputs": [
        {
          "output_type": "display_data",
          "data": {
            "text/plain": [
              "<Figure size 1440x720 with 1 Axes>"
            ],
            "image/png": "[encoded data removed]"
          },
          "metadata": {
            "needs_background": "light"
          }
        }
      ]
    },
    {
      "cell_type": "markdown",
      "source": [
        "# SECTION 3: Multi class classification\n",
        "## This is the section where you have to add other algorithms, tune algorithms and visualize to compare and analyze algorithms"
      ],
      "metadata": {
        "id": "kIrPBsx2guUI"
      }
    },
    {
      "cell_type": "code",
      "source": [
        "# 5-class classification version\n",
        "from sklearn.tree import DecisionTreeClassifier\n",
        "from sklearn.metrics import confusion_matrix, zero_one_loss, ConfusionMatrixDisplay\n",
        "\n",
        "dt_classifier = DecisionTreeClassifier(random_state=17)\n",
        "dt_classifier.fit(train_x, train_Y)\n",
        "\n",
        "pred_y = dt_classifier.predict(test_x)\n",
        "\n",
        "results = confusion_matrix(test_Y, pred_y)\n",
        "error = zero_one_loss(test_Y, pred_y)\n",
        "\n",
        "print(results)\n",
        "print(error)"
      ],
      "metadata": {
        "colab": {
          "base_uri": "https://localhost:8080/"
        },
        "id": "ADBkswRegiuR",
        "outputId": "176f994c-bffe-4ee8-9ba1-ef3c1a6ff322"
      },
      "execution_count": null,
      "outputs": [
        {
          "output_type": "stream",
          "name": "stdout",
          "text": [
            "[[9365   56  289    1    0]\n",
            " [1541 5998   97    0    0]\n",
            " [ 677  220 1526    0    0]\n",
            " [2278    1   14  277    4]\n",
            " [ 175    0    5    5   15]]\n",
            "0.2378903477643719\n"
          ]
        }
      ]
    },
    {
      "cell_type": "code",
      "source": [
        "from sklearn.metrics import classification_report"
      ],
      "metadata": {
        "id": "hx82xc7AnsC7"
      },
      "execution_count": null,
      "outputs": []
    },
    {
      "cell_type": "code",
      "source": [
        "print(classification_report(test_Y, pred_y))"
      ],
      "metadata": {
        "colab": {
          "base_uri": "https://localhost:8080/"
        },
        "id": "dcus1ESUn3KD",
        "outputId": "1b8a35ee-9dd9-4c42-f7ba-4aaa2d1c1cfa"
      },
      "execution_count": null,
      "outputs": [
        {
          "output_type": "stream",
          "name": "stdout",
          "text": [
            "              precision    recall  f1-score   support\n",
            "\n",
            "      benign       0.67      0.96      0.79      9711\n",
            "         dos       0.96      0.79      0.86      7636\n",
            "       probe       0.79      0.63      0.70      2423\n",
            "         r2l       0.98      0.11      0.19      2574\n",
            "         u2r       0.79      0.07      0.14       200\n",
            "\n",
            "    accuracy                           0.76     22544\n",
            "   macro avg       0.84      0.51      0.54     22544\n",
            "weighted avg       0.81      0.76      0.73     22544\n",
            "\n"
          ]
        }
      ]
    },
    {
      "cell_type": "code",
      "source": [
        "import matplotlib.pyplot as plt\n",
        "cm_display = ConfusionMatrixDisplay(confusion_matrix = results, display_labels = ['benign', 'dos', 'probe', 'r2l', 'u2r'])\n",
        "\n",
        "cm_display.plot()\n",
        "plt.show()"
      ],
      "metadata": {
        "colab": {
          "base_uri": "https://localhost:8080/",
          "height": 279
        },
        "id": "Zf7WXvDlV5ga",
        "outputId": "f4222cc4-3807-47a7-aadd-678c27ab9c09"
      },
      "execution_count": null,
      "outputs": [
        {
          "output_type": "display_data",
          "data": {
            "text/plain": [
              "<Figure size 432x288 with 2 Axes>"
            ],
            "image/png": "[encoded data removed]"
          },
          "metadata": {
            "needs_background": "light"
          }
        }
      ]
    },
    {
      "cell_type": "markdown",
      "source": [
        "## Build and evaluate RandomForest Classifier"
      ],
      "metadata": {
        "id": "KqpGiltWhYet"
      }
    },
    {
      "cell_type": "code",
      "source": [
        "from sklearn.ensemble import RandomForestClassifier\n",
        "\n",
        "best_error = None\n",
        "best_results = None\n",
        "best_rf_classifier = None\n",
        "num_estimators = 100\n",
        "\n",
        "for i in range(100, 200, 10):\n",
        "  rf_classifier = RandomForestClassifier(n_estimators=i)\n",
        "  rf_classifier.fit(train_x, train_Y)\n",
        "\n",
        "  pred_y = rf_classifier.predict(test_x)\n",
        "\n",
        "  results = confusion_matrix(test_Y, pred_y)\n",
        "  error = zero_one_loss(test_Y, pred_y)\n",
        "\n",
        "  if not best_error or error < best_error:\n",
        "    best_error = error\n",
        "    best_results = results\n",
        "    num_estimators = i\n",
        "    best_rf_classifier = rf_classifier\n",
        "\n",
        "print(best_results)\n",
        "print(best_error)\n",
        "print(num_estimators)"
      ],
      "metadata": {
        "colab": {
          "base_uri": "https://localhost:8080/"
        },
        "id": "VdRCjFgPgyvV",
        "outputId": "5630bcab-0be4-4f17-d43d-109a266b5134"
      },
      "execution_count": null,
      "outputs": [
        {
          "output_type": "stream",
          "name": "stdout",
          "text": [
            "[[9453   67  191    0    0]\n",
            " [1545 5988  103    0    0]\n",
            " [ 771  162 1490    0    0]\n",
            " [2451    0    1  120    2]\n",
            " [ 193    0    0    4    3]]\n",
            "0.2435237757274663\n",
            "120\n"
          ]
        }
      ]
    },
    {
      "cell_type": "code",
      "source": [
        "print(classification_report(test_Y, pred_y))"
      ],
      "metadata": {
        "colab": {
          "base_uri": "https://localhost:8080/"
        },
        "id": "WLvoOayKoOpU",
        "outputId": "77255c99-a111-4508-aeaf-6542e51d0d8a"
      },
      "execution_count": null,
      "outputs": [
        {
          "output_type": "stream",
          "name": "stdout",
          "text": [
            "              precision    recall  f1-score   support\n",
            "\n",
            "      benign       0.64      0.97      0.77      9711\n",
            "         dos       0.96      0.75      0.84      7636\n",
            "       probe       0.85      0.61      0.71      2423\n",
            "         r2l       0.97      0.03      0.06      2574\n",
            "         u2r       0.67      0.01      0.02       200\n",
            "\n",
            "    accuracy                           0.74     22544\n",
            "   macro avg       0.82      0.48      0.48     22544\n",
            "weighted avg       0.81      0.74      0.70     22544\n",
            "\n"
          ]
        }
      ]
    },
    {
      "cell_type": "code",
      "source": [
        "import matplotlib.pyplot as plt\n",
        "cm_display = ConfusionMatrixDisplay(confusion_matrix = best_results, display_labels = ['benign', 'dos', 'probe', 'r2l', 'u2r'])\n",
        "\n",
        "cm_display.plot()\n",
        "plt.show()"
      ],
      "metadata": {
        "colab": {
          "base_uri": "https://localhost:8080/",
          "height": 279
        },
        "id": "QdAZXrAPWXZB",
        "outputId": "1487fa4a-6ce7-46b5-e100-e3deeefa70de"
      },
      "execution_count": null,
      "outputs": [
        {
          "output_type": "display_data",
          "data": {
            "text/plain": [
              "<Figure size 432x288 with 2 Axes>"
            ],
            "image/png": "[encoded data removed]"
          },
          "metadata": {
            "needs_background": "light"
          }
        }
      ]
    },
    {
      "cell_type": "markdown",
      "source": [
        "## Build and Evaluate K-Nearest Neighbours Model"
      ],
      "metadata": {
        "id": "PgzSUQyujiqR"
      }
    },
    {
      "cell_type": "code",
      "source": [
        "from sklearn.neighbors import KNeighborsClassifier\n",
        "\n",
        "best_error = None\n",
        "best_results = None\n",
        "num_neighbours = None\n",
        "best_knn_classifier = None\n",
        "\n",
        "for i in range(3, 10, 2):\n",
        "  classifier = KNeighborsClassifier(n_neighbors=i)\n",
        "  classifier.fit(train_x, train_Y)\n",
        "\n",
        "  pred_y = classifier.predict(test_x)\n",
        "\n",
        "  results = confusion_matrix(test_Y, pred_y)\n",
        "  error = zero_one_loss(test_Y, pred_y)\n",
        "\n",
        "  if not best_error or error < best_error:\n",
        "    best_error = error\n",
        "    best_results = results\n",
        "    num_neighbours = i\n",
        "    best_knn_classifier = classifier\n",
        "\n",
        "print(best_results)\n",
        "print(best_error)\n",
        "print(num_neighbours)"
      ],
      "metadata": {
        "colab": {
          "base_uri": "https://localhost:8080/"
        },
        "id": "VxkiR0l2hpsk",
        "outputId": "743e22b9-3767-4fe2-c8fb-5d5c1da962cb"
      },
      "execution_count": null,
      "outputs": [
        {
          "output_type": "stream",
          "name": "stdout",
          "text": [
            "[[9443   55  210    2    1]\n",
            " [1610 5937   89    0    0]\n",
            " [ 595  180 1648    0    0]\n",
            " [2347    2   53  171    1]\n",
            " [ 105    0   85    4    6]]\n",
            "0.2368257629524485\n",
            "7\n"
          ]
        }
      ]
    },
    {
      "cell_type": "code",
      "source": [
        "print(classification_report(test_Y, pred_y))"
      ],
      "metadata": {
        "colab": {
          "base_uri": "https://localhost:8080/"
        },
        "id": "H466AX4ooYCX",
        "outputId": "aa7c5061-dc6a-4f97-cbc3-d7d074bdc03c"
      },
      "execution_count": null,
      "outputs": [
        {
          "output_type": "stream",
          "name": "stdout",
          "text": [
            "              precision    recall  f1-score   support\n",
            "\n",
            "      benign       0.66      0.97      0.79      9711\n",
            "         dos       0.96      0.75      0.84      7636\n",
            "       probe       0.80      0.68      0.74      2423\n",
            "         r2l       0.96      0.07      0.12      2574\n",
            "         u2r       0.83      0.03      0.05       200\n",
            "\n",
            "    accuracy                           0.75     22544\n",
            "   macro avg       0.84      0.50      0.51     22544\n",
            "weighted avg       0.81      0.75      0.72     22544\n",
            "\n"
          ]
        }
      ]
    },
    {
      "cell_type": "code",
      "source": [
        "import matplotlib.pyplot as plt\n",
        "cm_display = ConfusionMatrixDisplay(confusion_matrix = best_results, display_labels = ['benign', 'dos', 'probe', 'r2l', 'u2r'])\n",
        "\n",
        "cm_display.plot()\n",
        "plt.show()"
      ],
      "metadata": {
        "colab": {
          "base_uri": "https://localhost:8080/",
          "height": 279
        },
        "id": "A_Yigg4SW_FZ",
        "outputId": "9d3b6add-33a3-4f14-969a-665640923f34"
      },
      "execution_count": null,
      "outputs": [
        {
          "output_type": "display_data",
          "data": {
            "text/plain": [
              "<Figure size 432x288 with 2 Axes>"
            ],
            "image/png": "[encoded data removed]"
          },
          "metadata": {
            "needs_background": "light"
          }
        }
      ]
    },
    {
      "cell_type": "markdown",
      "source": [
        "## Build and Evaluate Logistic Regression Model"
      ],
      "metadata": {
        "id": "_GPlRST8mfgQ"
      }
    },
    {
      "cell_type": "code",
      "source": [
        "from sklearn.linear_model import LogisticRegression\n",
        "\n",
        "solvers = ['lbfgs', 'saga', 'newton-cg', 'sag']\n",
        "best_error = None\n",
        "best_results = None\n",
        "best_solver = None\n",
        "best_C = None\n",
        "best_lr_classifier = None\n",
        "\n",
        "for solver in solvers:\n",
        "  for regularization in [0.1, 1.0, 10.0]:\n",
        "    classifier = LogisticRegression(random_state=0, solver=solver, C=regularization)\n",
        "    classifier.fit(train_x, train_Y)\n",
        "\n",
        "    pred_y = classifier.predict(test_x)\n",
        "\n",
        "    results = confusion_matrix(test_Y, pred_y)\n",
        "    error = zero_one_loss(test_Y, pred_y)\n",
        "\n",
        "    if not best_error or error < best_error:\n",
        "      best_error = error\n",
        "      best_results = results\n",
        "      best_solver = solver\n",
        "      best_C = regularization\n",
        "      best_lr_classifier = classifier\n",
        "\n",
        "print(best_results)\n",
        "print(best_error)\n",
        "print(best_solver)\n",
        "print(best_C)"
      ],
      "metadata": {
        "id": "jGMwj1xfkf7a",
        "colab": {
          "base_uri": "https://localhost:8080/"
        },
        "outputId": "9cc4a6a9-00c5-41a6-d2a0-7a1cd06e7ae7"
      },
      "execution_count": null,
      "outputs": [
        {
          "output_type": "stream",
          "name": "stdout",
          "text": [
            "[[8993   90  624    2    2]\n",
            " [1560 6052   24    0    0]\n",
            " [ 496   99 1825    3    0]\n",
            " [2471    2    2   99    0]\n",
            " [ 184    3    0    5    8]]\n",
            "0.2469393186657204\n",
            "lbfgs\n",
            "1.0\n"
          ]
        }
      ]
    },
    {
      "cell_type": "code",
      "source": [
        "print(classification_report(test_Y, pred_y))"
      ],
      "metadata": {
        "colab": {
          "base_uri": "https://localhost:8080/"
        },
        "id": "PLBWeq3gobLa",
        "outputId": "893f142a-9fa4-49e4-b64a-d9f3e809ee62"
      },
      "execution_count": null,
      "outputs": [
        {
          "output_type": "stream",
          "name": "stdout",
          "text": [
            "              precision    recall  f1-score   support\n",
            "\n",
            "      benign       0.63      0.93      0.76      9711\n",
            "         dos       0.90      0.73      0.81      7636\n",
            "       probe       0.89      0.73      0.80      2423\n",
            "         r2l       0.50      0.01      0.01      2574\n",
            "         u2r       0.75      0.01      0.03       200\n",
            "\n",
            "    accuracy                           0.73     22544\n",
            "   macro avg       0.74      0.48      0.48     22544\n",
            "weighted avg       0.74      0.73      0.69     22544\n",
            "\n"
          ]
        }
      ]
    },
    {
      "cell_type": "code",
      "source": [
        "import matplotlib.pyplot as plt\n",
        "cm_display = ConfusionMatrixDisplay(confusion_matrix = best_results, display_labels = ['benign', 'dos', 'probe', 'r2l', 'u2r'])\n",
        "\n",
        "cm_display.plot()\n",
        "plt.show()"
      ],
      "metadata": {
        "colab": {
          "base_uri": "https://localhost:8080/",
          "height": 279
        },
        "id": "Oub4zyXEXDOm",
        "outputId": "cbe2997c-a8b0-4ab0-8358-ce097a26579e"
      },
      "execution_count": null,
      "outputs": [
        {
          "output_type": "display_data",
          "data": {
            "text/plain": [
              "<Figure size 432x288 with 2 Axes>"
            ],
            "image/png": "[encoded data removed]"
          },
          "metadata": {
            "needs_background": "light"
          }
        }
      ]
    },
    {
      "cell_type": "markdown",
      "source": [
        "## Build and Evaluate SVM"
      ],
      "metadata": {
        "id": "o_AgVmXM6w2q"
      }
    },
    {
      "cell_type": "code",
      "source": [
        "from sklearn.preprocessing import StandardScaler\n",
        "from sklearn.pipeline import make_pipeline\n",
        "from sklearn.linear_model import SGDClassifier\n",
        "\n",
        "svm_classifier = make_pipeline(StandardScaler(),\n",
        "                           SGDClassifier(max_iter=20000, tol=1e-7, n_iter_no_change=3, learning_rate='adaptive', early_stopping=True, eta0=1))\n",
        "svm_classifier.fit(train_x, train_Y)\n",
        "pred_y = svm_classifier.predict(test_x)\n",
        "\n",
        "results = confusion_matrix(test_Y, pred_y)\n",
        "error = zero_one_loss(test_Y, pred_y)\n",
        "\n",
        "print(results)\n",
        "print(error)"
      ],
      "metadata": {
        "id": "tCnzGjCOq2be",
        "colab": {
          "base_uri": "https://localhost:8080/"
        },
        "outputId": "4b3e0db5-b2be-46e2-e3d6-5f21ceeb70d1"
      },
      "execution_count": null,
      "outputs": [
        {
          "output_type": "stream",
          "name": "stdout",
          "text": [
            "[[9061  435  207    2    6]\n",
            " [1271 6351   14    0    0]\n",
            " [ 542  157 1593  131    0]\n",
            " [2466    2    3  100    3]\n",
            " [ 185    0    0    4   11]]\n",
            "0.24077359829666434\n"
          ]
        }
      ]
    },
    {
      "cell_type": "code",
      "source": [
        "print(classification_report(test_Y, pred_y))"
      ],
      "metadata": {
        "id": "KbupBts3w0PP",
        "colab": {
          "base_uri": "https://localhost:8080/"
        },
        "outputId": "ded12007-ac6e-4ecb-a59d-422b285c339c"
      },
      "execution_count": null,
      "outputs": [
        {
          "output_type": "stream",
          "name": "stdout",
          "text": [
            "              precision    recall  f1-score   support\n",
            "\n",
            "      benign       0.67      0.93      0.78      9711\n",
            "         dos       0.91      0.83      0.87      7636\n",
            "       probe       0.88      0.66      0.75      2423\n",
            "         r2l       0.42      0.04      0.07      2574\n",
            "         u2r       0.55      0.06      0.10       200\n",
            "\n",
            "    accuracy                           0.76     22544\n",
            "   macro avg       0.69      0.50      0.51     22544\n",
            "weighted avg       0.75      0.76      0.72     22544\n",
            "\n"
          ]
        }
      ]
    },
    {
      "cell_type": "code",
      "source": [
        "import matplotlib.pyplot as plt\n",
        "cm_display = ConfusionMatrixDisplay(confusion_matrix = results, display_labels = ['benign', 'dos', 'probe', 'r2l', 'u2r'])\n",
        "\n",
        "cm_display.plot()\n",
        "plt.show()"
      ],
      "metadata": {
        "colab": {
          "base_uri": "https://localhost:8080/",
          "height": 279
        },
        "id": "KpyYrIPRoecX",
        "outputId": "f8f030ed-ff75-4b19-ee2f-cd122eb3e6ae"
      },
      "execution_count": null,
      "outputs": [
        {
          "output_type": "display_data",
          "data": {
            "text/plain": [
              "<Figure size 432x288 with 2 Axes>"
            ],
            "image/png": "[encoded data removed]"
          },
          "metadata": {
            "needs_background": "light"
          }
        }
      ]
    },
    {
      "cell_type": "code",
      "source": [
        "import matplotlib.pyplot as plt\n",
        "fig = plt.figure()\n",
        "ax = fig.add_axes([0,0,1,1])\n",
        "classifiers = ['DecisionTree', 'RandomForest', 'K-NearestNeighbours', 'LogisticRegression', 'SupportVectorMachine']\n",
        "accuracies = [0.76,0.74,0.75,0.73,0.76]\n",
        "ax.tick_params(axis='x', which='major', labelsize=7)\n",
        "ax.tick_params(axis='x', which='minor', labelsize=6)\n",
        "ax.bar(classifiers,accuracies)\n",
        "plt.show()"
      ],
      "metadata": {
        "id": "N1ZQA8IGrJYd",
        "colab": {
          "base_uri": "https://localhost:8080/",
          "height": 332
        },
        "outputId": "edd3262a-231e-4029-8b4e-2cbe65b1d480"
      },
      "execution_count": null,
      "outputs": [
        {
          "output_type": "display_data",
          "data": {
            "text/plain": [
              "<Figure size 432x288 with 1 Axes>"
            ],
            "image/png": "[encoded data removed]"
          },
          "metadata": {
            "needs_background": "light"
          }
        }
      ]
    },
    {
      "cell_type": "code",
      "source": [],
      "metadata": {
        "id": "2tiZ1ksn9AZ1"
      },
      "execution_count": null,
      "outputs": []
    }
  ]
}