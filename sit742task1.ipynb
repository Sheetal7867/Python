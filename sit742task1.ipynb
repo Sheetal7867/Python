{
  "cells": [
    {
      "cell_type": "markdown",
      "metadata": {
        "id": "CC_7lPiZq-DQ"
      },
      "source": [
        "# Part 1"
      ]
    },
    {
      "cell_type": "markdown",
      "metadata": {
        "id": "iqxyZH25rLJs"
      },
      "source": [
        "## Answer 1.1"
      ]
    },
    {
      "cell_type": "code",
      "execution_count": null,
      "metadata": {
        "id": "iVfI0qBQq9Ea"
      },
      "outputs": [],
      "source": [
        "ages = [5, 31, 43, 48, 50, 41, 7, 11, 15, 39, 80, 82, 32, 2, 8, 6, 25, 36, 27, 61, 31]\n",
        "# sort ages list\n",
        "sorted_ages = sorted(ages)\n",
        "# get length of the ages list\n",
        "ages_len = len(ages)"
      ]
    },
    {
      "cell_type": "markdown",
      "metadata": {
        "id": "wRuEVb8nt0R0"
      },
      "source": [
        "### Calculate Median"
      ]
    },
    {
      "cell_type": "code",
      "execution_count": null,
      "metadata": {
        "colab": {
          "base_uri": "https://localhost:8080/"
        },
        "id": "bWti8hK7rfZ2",
        "outputId": "240f93c2-322d-432c-b5d9-b3619af4f9d2"
      },
      "outputs": [
        {
          "output_type": "stream",
          "name": "stdout",
          "text": [
            "Median age: 31\n"
          ]
        }
      ],
      "source": [
        "# Get the middle index\n",
        "middle_index = ages_len // 2\n",
        "# Calculate median which is middle numbe if list length is odd otherwise average of the two middle numbers\n",
        "median_age = sorted_ages[middle_index] if ages_len % 2 else (sorted_ages[middle_index - 1] + sorted_ages[middle_index])/2.0\n",
        "# Print median age\n",
        "print(f\"Median age: {median_age}\")"
      ]
    },
    {
      "cell_type": "markdown",
      "metadata": {
        "id": "N5IA35KVt6Gg"
      },
      "source": [
        "### find the age which is larger than 90% of other ages"
      ]
    },
    {
      "cell_type": "code",
      "execution_count": null,
      "metadata": {
        "colab": {
          "base_uri": "https://localhost:8080/"
        },
        "id": "_WxZFQ8usGbE",
        "outputId": "7d53abb3-ebd8-4943-87ee-f054609ffe63"
      },
      "outputs": [
        {
          "output_type": "stream",
          "name": "stdout",
          "text": [
            "Age larger than 90% of other ages: 61\n"
          ]
        }
      ],
      "source": [
        "import math\n",
        "# Get the index of element larger than 90% of other ages\n",
        "large_age_index = math.ceil(0.9 * (ages_len-1))\n",
        "# print the age which is larger than 90% of other ages i.e.\n",
        "# 18 other ages are smaller\n",
        "print(f\"Age larger than 90% of other ages: {sorted_ages[large_age_index]}\")"
      ]
    },
    {
      "cell_type": "markdown",
      "metadata": {
        "id": "KGyyYOYPveRK"
      },
      "source": [
        "## Answer 1.2"
      ]
    },
    {
      "cell_type": "markdown",
      "metadata": {
        "id": "WjbFLUdSvknt"
      },
      "source": [
        "### Define a function `sum_test()` which returns summation of a sequence of numbers"
      ]
    },
    {
      "cell_type": "code",
      "execution_count": null,
      "metadata": {
        "id": "aU0mM8xOuf-I"
      },
      "outputs": [],
      "source": [
        "def sum_test(n: int) -> int:\n",
        "  # check if n is None or 0\n",
        "  if not n:\n",
        "    return 0\n",
        "  if n < 0:\n",
        "    # if n is negative integer\n",
        "    return sum(range(n, 0))\n",
        "  # if n is positive integer\n",
        "  return sum(range(1, n+1))"
      ]
    },
    {
      "cell_type": "markdown",
      "metadata": {
        "id": "YbE17l_3zczL"
      },
      "source": [
        "### Call `sum_test(12)` and print results"
      ]
    },
    {
      "cell_type": "code",
      "execution_count": null,
      "metadata": {
        "colab": {
          "base_uri": "https://localhost:8080/"
        },
        "id": "BpdyUiq5v8Sq",
        "outputId": "173a72ee-2602-49f4-fe3f-3bf412686d4e"
      },
      "outputs": [
        {
          "output_type": "stream",
          "name": "stdout",
          "text": [
            "sum_test(12) is 78\n"
          ]
        }
      ],
      "source": [
        "print(f\"sum_test(12) is {sum_test(12)}\")"
      ]
    },
    {
      "cell_type": "markdown",
      "metadata": {
        "id": "_L8tGCPWztX1"
      },
      "source": [
        "## Answer 1.3"
      ]
    },
    {
      "cell_type": "markdown",
      "metadata": {
        "id": "_-5O6hUJ0Fl2"
      },
      "source": [
        "### Write a function to return `grade` for the input `score`"
      ]
    },
    {
      "cell_type": "code",
      "execution_count": null,
      "metadata": {
        "id": "Qip8b9fvyIvg"
      },
      "outputs": [],
      "source": [
        "def get_grade_for_score(score: int) -> str:\n",
        "  if score < 60:\n",
        "    return \"F\"\n",
        "  elif score >= 60 and score < 70:\n",
        "    return \"P\"\n",
        "  elif score >= 70 and score < 80:\n",
        "    return \"C\"\n",
        "  elif score >= 80 and score < 90:\n",
        "    return \"D\"\n",
        "  return \"HD\""
      ]
    },
    {
      "cell_type": "markdown",
      "metadata": {
        "id": "PNHs9j3H1AxR"
      },
      "source": [
        "### Write a while loop to accept score and return grade"
      ]
    },
    {
      "cell_type": "code",
      "execution_count": null,
      "metadata": {
        "colab": {
          "base_uri": "https://localhost:8080/"
        },
        "id": "7hO5ZWbf07GQ",
        "outputId": "03550cf1-da04-4222-e32a-d4a11d0c397e"
      },
      "outputs": [
        {
          "output_type": "stream",
          "name": "stdout",
          "text": [
            "please_fill_your_score:45\n",
            "F\n",
            "please_fill_your_score:86\n",
            "D\n",
            "please_fill_your_score:100\n",
            "HD\n",
            "please_fill_your_score:-1\n",
            "Exiting...\n"
          ]
        }
      ],
      "source": [
        "while True:\n",
        "  try:\n",
        "    score = int(input(\"please_fill_your_score:\"))\n",
        "    # Assume that negative score means no more inputs\n",
        "    if score < 0:\n",
        "      print(\"Exiting...\")\n",
        "      break\n",
        "    print(get_grade_for_score(score))\n",
        "  except:\n",
        "    print(\"Enter integer score!!\")\n",
        "    break"
      ]
    },
    {
      "cell_type": "markdown",
      "source": [
        "## Answer 1.4"
      ],
      "metadata": {
        "id": "qs83x-684IDl"
      }
    },
    {
      "cell_type": "code",
      "execution_count": null,
      "metadata": {
        "id": "q8mGA_WR1hQD",
        "colab": {
          "base_uri": "https://localhost:8080/"
        },
        "outputId": "599bad39-1130-4069-f2b8-d1d10cae11ab"
      },
      "outputs": [
        {
          "output_type": "stream",
          "name": "stdout",
          "text": [
            "*\n",
            "**\n",
            "***\n",
            "****\n",
            "*****\n",
            "****\n",
            "***\n",
            "**\n",
            "*\n"
          ]
        }
      ],
      "source": [
        "num = 1\n",
        "incr = 1\n",
        "while num>0:\n",
        "  # print * mark if not above 5\n",
        "  print(\"*\"*num)\n",
        "  if num == 5:\n",
        "    # if num equals 5 then start decrementing by 1\n",
        "    incr = -1\n",
        "  num += incr"
      ]
    },
    {
      "cell_type": "markdown",
      "source": [
        "## Answer 1.5"
      ],
      "metadata": {
        "id": "_0NnsOcu4_xx"
      }
    },
    {
      "cell_type": "markdown",
      "source": [
        "### Define a function to parse the input string, find all numbers and store in another string"
      ],
      "metadata": {
        "id": "GwIsv6HC5CzF"
      }
    },
    {
      "cell_type": "code",
      "source": [
        "def find_all_numbers(input_str: str) -> str:\n",
        "  result = \"\"\n",
        "  # iterate over the input character by character\n",
        "  for c in input_str:\n",
        "    try:\n",
        "      # try to cast current character to integer and add to result string\n",
        "      result += str(int(c))\n",
        "    except:\n",
        "      # if character is not an integer than skip to the next character\n",
        "      continue\n",
        "  return result"
      ],
      "metadata": {
        "id": "Bnuj4Z8g4hEZ"
      },
      "execution_count": null,
      "outputs": []
    },
    {
      "cell_type": "code",
      "source": [
        "print(f\"number string in input 'aAsmr3idd4bgs7Dlsf9AF' is {find_all_numbers('aAsmr3idd4bgs7Dlsf9AF')}\")"
      ],
      "metadata": {
        "colab": {
          "base_uri": "https://localhost:8080/"
        },
        "id": "X-i7LKCG5zTs",
        "outputId": "8e129543-c0a4-4053-fd4d-07638663b174"
      },
      "execution_count": null,
      "outputs": [
        {
          "output_type": "stream",
          "name": "stdout",
          "text": [
            "number string in input 'aAsmr3idd4bgs7Dlsf9AF' is 3479\n"
          ]
        }
      ]
    },
    {
      "cell_type": "markdown",
      "source": [
        "## Answer 1.6"
      ],
      "metadata": {
        "id": "KeIISo5z6NFl"
      }
    },
    {
      "cell_type": "markdown",
      "source": [
        "### Define a function `find_all()` to find first index of all occurences of a substring"
      ],
      "metadata": {
        "id": "8OcLZsHk6Rmc"
      }
    },
    {
      "cell_type": "code",
      "source": [
        "def find_all(input_str: str,  search_str: str) -> list:\n",
        "  result = []\n",
        "  # iterate over string from first index to last\n",
        "  for idx in range(len(input_str)):\n",
        "    # if substring starting from index idx starts with search_str then save the\n",
        "    # index in result list\n",
        "    if input_str.startswith(search_str, idx):\n",
        "      result.append(idx)\n",
        "  return result"
      ],
      "metadata": {
        "id": "XhQWGQRC6JWD"
      },
      "execution_count": null,
      "outputs": []
    },
    {
      "cell_type": "markdown",
      "source": [
        "### Call `find_all()` with example input and print the result"
      ],
      "metadata": {
        "id": "p-Bgsev77-lk"
      }
    },
    {
      "cell_type": "code",
      "source": [
        "input_str = 'helloworldhelloPythonhelloc++hellojava'\n",
        "print(f\"First indices of all occurences of 'hello' in {input_str} are: {find_all(input_str, 'hello')}\")"
      ],
      "metadata": {
        "colab": {
          "base_uri": "https://localhost:8080/"
        },
        "id": "sVVUAyiP79UL",
        "outputId": "a395741d-d393-43fb-f198-a8cc162c4b93"
      },
      "execution_count": null,
      "outputs": [
        {
          "output_type": "stream",
          "name": "stdout",
          "text": [
            "First indices of all occurences of 'hello' in helloworldhelloPythonhelloc++hellojava are: [0, 10, 21, 29]\n"
          ]
        }
      ]
    },
    {
      "cell_type": "markdown",
      "source": [
        "## Answer 1.7"
      ],
      "metadata": {
        "id": "RnsKltqj8kw1"
      }
    },
    {
      "cell_type": "code",
      "source": [
        "class Person:\n",
        "  # Define a constructor to create an object with name and age\n",
        "  def __init__(self, n: str, a: int) -> None:\n",
        "    self.name = n\n",
        "    self.age = a\n",
        "\n",
        "  # function to return current age\n",
        "  def Get_age(self) -> int:\n",
        "    return self.age\n",
        "\n",
        "  # function to set a new age\n",
        "  def Set_age(self, a: int) -> None:\n",
        "    self.age = a\n",
        "\n",
        "  # override built-in function to pretty print the object properties\n",
        "  def __str__(self):\n",
        "    return f\": {self.namnamee}, age: {self.age}\""
      ],
      "metadata": {
        "id": "3Qi7Hxwe8h4u"
      },
      "execution_count": null,
      "outputs": []
    },
    {
      "cell_type": "code",
      "source": [
        "daniel = Person('Daniel', 50)\n",
        "print(daniel)\n",
        "# The result of above print should be: name: Daniel, age: 50#\n",
        "daniel.Set_age(60)\n",
        "print(daniel.Get_age())\n",
        "# The result of above print should be: 60#\n",
        "print(daniel)\n",
        "# The result of above print should be: name: Daniel, age: 60#\n"
      ],
      "metadata": {
        "colab": {
          "base_uri": "https://localhost:8080/"
        },
        "id": "hejJk6rS9REd",
        "outputId": "b22791b0-9599-43f6-91d5-af7fcd6483d5"
      },
      "execution_count": null,
      "outputs": [
        {
          "output_type": "stream",
          "name": "stdout",
          "text": [
            "name: Daniel, age: 50\n",
            "60\n",
            "name: Daniel, age: 60\n"
          ]
        }
      ]
    },
    {
      "cell_type": "markdown",
      "source": [
        "## Answer 1.8"
      ],
      "metadata": {
        "id": "v2_V3gSJ_UYr"
      }
    },
    {
      "cell_type": "markdown",
      "source": [
        "### Define a function to return all permutations of the array"
      ],
      "metadata": {
        "id": "Jp8oB2q__z-8"
      }
    },
    {
      "cell_type": "code",
      "source": [
        "import copy\n",
        "\n",
        "def permute(input_list: list) -> list:\n",
        "  # if input list if None or empty then return list of empty list\n",
        "  if input_list is None or len(input_list) == 0:\n",
        "    return [[]]\n",
        "\n",
        "  # Check if there are duplicate numbers in the input array\n",
        "  if len(input_list) != len(set(input_list)):\n",
        "    return \"Input array contains duplicate numbers!!\"\n",
        "\n",
        "  result = []\n",
        "  # iterate through the list number by number\n",
        "  for number in input_list:\n",
        "    # create a deepcopy of the list\n",
        "    input_copy = copy.deepcopy(input_list)\n",
        "    # remove the current number\n",
        "    input_copy.remove(number)\n",
        "    # find all the permutations starting from the current number recursively\n",
        "    permutations = [[number] + res for res in permute(input_copy)]\n",
        "    result.extend(permutations)\n",
        "\n",
        "  return result"
      ],
      "metadata": {
        "id": "6gEba2Ux9YA0"
      },
      "execution_count": null,
      "outputs": []
    },
    {
      "cell_type": "code",
      "source": [
        "print(f\"All permutations of '[1, 2, 3]' are {permute([1, 2, 3, 4])}\")\n",
        "print(f\"All permutations of '[1]' are {permute([1])}\")\n",
        "print(f\"All permutations of '[1, 1]' are {permute([1, 1])}\")\n",
        "print(f\"All permutations of 'None' are {permute(None)}\")"
      ],
      "metadata": {
        "colab": {
          "base_uri": "https://localhost:8080/"
        },
        "id": "w3x7IxJCBf1h",
        "outputId": "f1bcab2b-1f00-4b05-dea0-c7131dbba15f"
      },
      "execution_count": null,
      "outputs": [
        {
          "output_type": "stream",
          "name": "stdout",
          "text": [
            "All permutations of '[1, 2, 3]' are [[1, 2, 3, 4], [1, 2, 4, 3], [1, 3, 2, 4], [1, 3, 4, 2], [1, 4, 2, 3], [1, 4, 3, 2], [2, 1, 3, 4], [2, 1, 4, 3], [2, 3, 1, 4], [2, 3, 4, 1], [2, 4, 1, 3], [2, 4, 3, 1], [3, 1, 2, 4], [3, 1, 4, 2], [3, 2, 1, 4], [3, 2, 4, 1], [3, 4, 1, 2], [3, 4, 2, 1], [4, 1, 2, 3], [4, 1, 3, 2], [4, 2, 1, 3], [4, 2, 3, 1], [4, 3, 1, 2], [4, 3, 2, 1]]\n",
            "All permutations of '[1]' are [[1]]\n",
            "All permutations of '[1, 1]' are Input array contains duplicate numbers!!\n",
            "All permutations of 'None' are [[]]\n"
          ]
        }
      ]
    },
    {
      "cell_type": "markdown",
      "source": [
        "# Part 2"
      ],
      "metadata": {
        "id": "1B1M9A5w__DL"
      }
    },
    {
      "cell_type": "markdown",
      "source": [
        "## Which version of Question 2 for you?"
      ],
      "metadata": {
        "id": "XZCXeDCrAN37"
      }
    },
    {
      "cell_type": "code",
      "source": [
        "def sum_digits(n):\n",
        "  r = 0\n",
        "  while n:\n",
        "    r, n = r + n % 10, n // 10\n",
        "  return r\n",
        "\n",
        "def check_studentid(studentid):\n",
        "  x = sum_digits(studentid)\n",
        "  if x % 2 == 0:\n",
        "    print('version I')\n",
        "  else:\n",
        "    print('version II')\n",
        "\n",
        "check_studentid(221342927)"
      ],
      "metadata": {
        "colab": {
          "base_uri": "https://localhost:8080/"
        },
        "id": "XGuNF2-h_18S",
        "outputId": "c5c4674f-ae48-4ea2-e69a-a945743e3a4f"
      },
      "execution_count": null,
      "outputs": [
        {
          "output_type": "stream",
          "name": "stdout",
          "text": [
            "version I\n"
          ]
        }
      ]
    },
    {
      "cell_type": "markdown",
      "source": [
        "## Question 2 (version I)"
      ],
      "metadata": {
        "id": "a4cWH1IZBTrH"
      }
    },
    {
      "cell_type": "code",
      "source": [
        "import numpy as np\n",
        "import pandas as pd\n",
        "import matplotlib.pyplot as plt\n",
        "import seaborn as sns\n",
        "%matplotlib inline"
      ],
      "metadata": {
        "id": "6J9AyKvxBJwt"
      },
      "execution_count": null,
      "outputs": []
    },
    {
      "cell_type": "code",
      "source": [
        "def f1(x):\n",
        "  a = (-x ** 2) + 2*x\n",
        "  return a\n",
        "\n",
        "fig, ax = plt.subplots()\n",
        "ax.set_title('-x^2+2x')\n",
        "ax.plot(np.linspace(0, 2, 100), f1(np.linspace(0, 2, 100)), label='-x^2+2x')\n",
        "ax.fill_between(np.linspace(0, 2, 100), f1(np.linspace(0, 2, 100)))\n",
        "ax.legend()\n",
        "plt.show()"
      ],
      "metadata": {
        "colab": {
          "base_uri": "https://localhost:8080/",
          "height": 281
        },
        "id": "AGfxMgXGBklG",
        "outputId": "e0c72bc1-f1d4-4151-c3f7-31d6f28320fc"
      },
      "execution_count": null,
      "outputs": [
        {
          "output_type": "display_data",
          "data": {
            "text/plain": [
              "<Figure size 432x288 with 1 Axes>"
            ],
            "image/png": "[encoded data removed]"
          },
          "metadata": {
            "needs_background": "light"
          }
        }
      ]
    },
    {
      "cell_type": "markdown",
      "source": [
        "### Answer 2.1"
      ],
      "metadata": {
        "id": "1DtA7J_hCaxC"
      }
    },
    {
      "cell_type": "code",
      "source": [
        "# Define a function to calculate max value for n samples between -100 and 100\n",
        "def find_max(n):\n",
        "  max_value = 0\n",
        "  # Iterate through each number between -100 and 100\n",
        "  for x in np.linspace(-100, 100, n):\n",
        "    # Calculate value of '-x^2+2x'\n",
        "    f1_x = f1(x)\n",
        "    # update max_value so far if f1_x is greater than previous max\n",
        "    if f1_x > max_value:\n",
        "      max_value = f1_x\n",
        "  return max_value"
      ],
      "metadata": {
        "id": "ly8vFALqCSly"
      },
      "execution_count": null,
      "outputs": []
    },
    {
      "cell_type": "code",
      "source": [
        "# find max for 100000 samples\n",
        "max_value = find_max(100000)\n",
        "# round it to the nearest integer\n",
        "print(f\"Max value of function f1(x) is {round(max_value)}\")"
      ],
      "metadata": {
        "colab": {
          "base_uri": "https://localhost:8080/"
        },
        "id": "t3EKubF3D5SU",
        "outputId": "f2fe3719-d823-4bb8-d744-a53be3160eda"
      },
      "execution_count": null,
      "outputs": [
        {
          "output_type": "stream",
          "name": "stdout",
          "text": [
            "Max value of function f1(x) is 1\n"
          ]
        }
      ]
    },
    {
      "cell_type": "markdown",
      "source": [
        "### Answer 2.2"
      ],
      "metadata": {
        "id": "KkWhXo4bIL9a"
      }
    },
    {
      "cell_type": "markdown",
      "source": [
        "#### Define a function to find area of function `f1(x)`"
      ],
      "metadata": {
        "id": "L-_cAIJ1ITRN"
      }
    },
    {
      "cell_type": "code",
      "source": [
        "import random\n",
        "\n",
        "class MonteCarlo:\n",
        "  # define a rectangle from (0,0) to (rect_width, rect_height)\n",
        "  def __init__(self, rect_width: int, rect_height: int):\n",
        "    self._rect_width = rect_width\n",
        "    self._rect_height = rect_height\n",
        "\n",
        "  # function to check if a random point is over or under f(x)\n",
        "  # function is passed as an argument to generalize\n",
        "  def _check_random_point(self, f: callable) -> bool:\n",
        "    # generate a random x between 0 and rectangle width\n",
        "    rand_x = random.uniform(0, self._rect_width)\n",
        "    # generate a random y between 0 and rectangle width\n",
        "    rand_y = random.uniform(0, self._rect_height)\n",
        "    # calculate f(rand_x)\n",
        "    f_rand_x = f(rand_x)\n",
        "\n",
        "    # return True if f1_rand_x < rand_y or\n",
        "    # absolute difference between them is less than 1e-08 (since both are\n",
        "    # floating point numbers and there might be some rounding errors)\n",
        "    return rand_y <= f_rand_x or np.isclose(f_rand_x, rand_y)\n",
        "\n",
        "  # run over num_samples point and calculate the ratio\n",
        "  # points under f1(x) / num_samples\n",
        "  def calculate_ratio_of_under_and_all_points(self,\n",
        "                                              num_samples: int,\n",
        "                                              f: callable) -> float:\n",
        "    # initialize points under with 0\n",
        "    points_under = 0\n",
        "    # run a loop for num_samples times\n",
        "    for i in range(num_samples):\n",
        "      # generate and check if a random point is in the area of f\n",
        "      if self._check_random_point(f):\n",
        "        # random point is in the area of f, increment number of point under f\n",
        "        points_under += 1\n",
        "\n",
        "    # calculate the ratio of points under f and total number of samples\n",
        "    ratio = points_under / num_samples\n",
        "\n",
        "    # return rectangle area multiplied by ratio of points under f\n",
        "    return self._rect_height * self._rect_width * ratio"
      ],
      "metadata": {
        "id": "rGHd7yGTEBHX"
      },
      "execution_count": null,
      "outputs": []
    },
    {
      "cell_type": "code",
      "source": [
        "def find_area(sample_num: int, max_value: int) -> float:\n",
        "  # create an object of MonteCarlo class and initialize rectange with 2, max_value\n",
        "  monte_carlo = MonteCarlo(2, max_value)\n",
        "  # calculate area of f1(x)\n",
        "  area_of_f1 = monte_carlo.calculate_ratio_of_under_and_all_points(sample_num, f1)\n",
        "  # return area of f1\n",
        "  return area_of_f1\n",
        "\n",
        "area_of_f1 = find_area(100000, round(find_max(100000)))\n",
        "print(f\"Area of f1(x) is {area_of_f1}\")"
      ],
      "metadata": {
        "colab": {
          "base_uri": "https://localhost:8080/"
        },
        "id": "wcm_BATjN-__",
        "outputId": "fa769041-8e85-4050-f0e9-10b6e99d0fe7"
      },
      "execution_count": null,
      "outputs": [
        {
          "output_type": "stream",
          "name": "stdout",
          "text": [
            "Area of f1(x) is 1.3329\n"
          ]
        }
      ]
    },
    {
      "cell_type": "code",
      "source": [],
      "metadata": {
        "id": "uABrfQG6RXyO"
      },
      "execution_count": null,
      "outputs": []
    }
  ],
  "metadata": {
    "colab": {
      "provenance": []
    },
    "kernelspec": {
      "display_name": "Python 3",
      "name": "python3"
    },
    "language_info": {
      "name": "python"
    }
  },
  "nbformat": 4,
  "nbformat_minor": 0
}